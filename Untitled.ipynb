{
 "cells": [
  {
   "cell_type": "code",
   "execution_count": 1,
   "id": "a21a37ba",
   "metadata": {},
   "outputs": [],
   "source": [
    "import pandas as pd"
   ]
  },
  {
   "cell_type": "code",
   "execution_count": 4,
   "id": "130654d2",
   "metadata": {},
   "outputs": [],
   "source": [
    "arima_res = pd.read_csv(\"arima_results.csv\")"
   ]
  },
  {
   "cell_type": "code",
   "execution_count": 5,
   "id": "58acc909",
   "metadata": {},
   "outputs": [],
   "source": [
    "lstm_res = pd.read_csv(\"lstm_results.csv\")"
   ]
  },
  {
   "cell_type": "code",
   "execution_count": 6,
   "id": "f4a91def",
   "metadata": {},
   "outputs": [],
   "source": [
    "cnn_res = pd.read_csv(\"cnn_results.csv\")"
   ]
  },
  {
   "cell_type": "code",
   "execution_count": 7,
   "id": "0faae437",
   "metadata": {},
   "outputs": [],
   "source": [
    "cnn_lstm_res = pd.read_csv(\"cnn_lstm_results.csv\")"
   ]
  },
  {
   "cell_type": "code",
   "execution_count": 18,
   "id": "ac01fcd9",
   "metadata": {},
   "outputs": [
    {
     "data": {
      "text/html": [
       "<div>\n",
       "<style scoped>\n",
       "    .dataframe tbody tr th:only-of-type {\n",
       "        vertical-align: middle;\n",
       "    }\n",
       "\n",
       "    .dataframe tbody tr th {\n",
       "        vertical-align: top;\n",
       "    }\n",
       "\n",
       "    .dataframe thead th {\n",
       "        text-align: right;\n",
       "    }\n",
       "</style>\n",
       "<table border=\"1\" class=\"dataframe\">\n",
       "  <thead>\n",
       "    <tr style=\"text-align: right;\">\n",
       "      <th></th>\n",
       "      <th></th>\n",
       "      <th>ERROR</th>\n",
       "    </tr>\n",
       "    <tr>\n",
       "      <th>COMPANY</th>\n",
       "      <th>TYPE</th>\n",
       "      <th></th>\n",
       "    </tr>\n",
       "  </thead>\n",
       "  <tbody>\n",
       "    <tr>\n",
       "      <th>AAPL</th>\n",
       "      <th>MAPE</th>\n",
       "      <td>0.008992</td>\n",
       "    </tr>\n",
       "    <tr>\n",
       "      <th>AMZN</th>\n",
       "      <th>MAPE</th>\n",
       "      <td>0.010060</td>\n",
       "    </tr>\n",
       "    <tr>\n",
       "      <th>FB</th>\n",
       "      <th>MAPE</th>\n",
       "      <td>0.010063</td>\n",
       "    </tr>\n",
       "    <tr>\n",
       "      <th>GOOG</th>\n",
       "      <th>MAPE</th>\n",
       "      <td>0.008343</td>\n",
       "    </tr>\n",
       "    <tr>\n",
       "      <th>MSFT</th>\n",
       "      <th>MAPE</th>\n",
       "      <td>0.007961</td>\n",
       "    </tr>\n",
       "  </tbody>\n",
       "</table>\n",
       "</div>"
      ],
      "text/plain": [
       "                 ERROR\n",
       "COMPANY TYPE          \n",
       "AAPL    MAPE  0.008992\n",
       "AMZN    MAPE  0.010060\n",
       "FB      MAPE  0.010063\n",
       "GOOG    MAPE  0.008343\n",
       "MSFT    MAPE  0.007961"
      ]
     },
     "execution_count": 18,
     "metadata": {},
     "output_type": "execute_result"
    }
   ],
   "source": [
    "arima_res[arima_res[\"TYPE\"] == \"MAPE\"].groupby([\"COMPANY\", \"TYPE\"]).mean()"
   ]
  },
  {
   "cell_type": "code",
   "execution_count": 19,
   "id": "e2d28407",
   "metadata": {},
   "outputs": [
    {
     "data": {
      "text/html": [
       "<div>\n",
       "<style scoped>\n",
       "    .dataframe tbody tr th:only-of-type {\n",
       "        vertical-align: middle;\n",
       "    }\n",
       "\n",
       "    .dataframe tbody tr th {\n",
       "        vertical-align: top;\n",
       "    }\n",
       "\n",
       "    .dataframe thead th {\n",
       "        text-align: right;\n",
       "    }\n",
       "</style>\n",
       "<table border=\"1\" class=\"dataframe\">\n",
       "  <thead>\n",
       "    <tr style=\"text-align: right;\">\n",
       "      <th></th>\n",
       "      <th></th>\n",
       "      <th>ERROR</th>\n",
       "    </tr>\n",
       "    <tr>\n",
       "      <th>COMPANY</th>\n",
       "      <th>TYPE</th>\n",
       "      <th></th>\n",
       "    </tr>\n",
       "  </thead>\n",
       "  <tbody>\n",
       "    <tr>\n",
       "      <th>AAPL</th>\n",
       "      <th>MAPE</th>\n",
       "      <td>0.014676</td>\n",
       "    </tr>\n",
       "    <tr>\n",
       "      <th>AMZN</th>\n",
       "      <th>MAPE</th>\n",
       "      <td>0.032919</td>\n",
       "    </tr>\n",
       "    <tr>\n",
       "      <th>FB</th>\n",
       "      <th>MAPE</th>\n",
       "      <td>0.021138</td>\n",
       "    </tr>\n",
       "    <tr>\n",
       "      <th>GOOG</th>\n",
       "      <th>MAPE</th>\n",
       "      <td>0.013652</td>\n",
       "    </tr>\n",
       "    <tr>\n",
       "      <th>MSFT</th>\n",
       "      <th>MAPE</th>\n",
       "      <td>0.019855</td>\n",
       "    </tr>\n",
       "  </tbody>\n",
       "</table>\n",
       "</div>"
      ],
      "text/plain": [
       "                 ERROR\n",
       "COMPANY TYPE          \n",
       "AAPL    MAPE  0.014676\n",
       "AMZN    MAPE  0.032919\n",
       "FB      MAPE  0.021138\n",
       "GOOG    MAPE  0.013652\n",
       "MSFT    MAPE  0.019855"
      ]
     },
     "execution_count": 19,
     "metadata": {},
     "output_type": "execute_result"
    }
   ],
   "source": [
    "lstm_res[lstm_res[\"TYPE\"] == \"MAPE\"].groupby([\"COMPANY\", \"TYPE\"]).mean()"
   ]
  }
 ],
 "metadata": {
  "kernelspec": {
   "display_name": "Python 3 (ipykernel)",
   "language": "python",
   "name": "python3"
  },
  "language_info": {
   "codemirror_mode": {
    "name": "ipython",
    "version": 3
   },
   "file_extension": ".py",
   "mimetype": "text/x-python",
   "name": "python",
   "nbconvert_exporter": "python",
   "pygments_lexer": "ipython3",
   "version": "3.9.7"
  }
 },
 "nbformat": 4,
 "nbformat_minor": 5
}
