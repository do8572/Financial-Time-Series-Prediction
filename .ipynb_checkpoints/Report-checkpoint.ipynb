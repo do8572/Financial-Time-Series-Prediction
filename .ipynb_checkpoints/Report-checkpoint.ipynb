{
 "cells": [
  {
   "cell_type": "code",
   "execution_count": 1,
   "id": "c59a829b",
   "metadata": {},
   "outputs": [],
   "source": [
    "import pandas as pd"
   ]
  },
  {
   "cell_type": "code",
   "execution_count": 2,
   "id": "1749fa00",
   "metadata": {},
   "outputs": [],
   "source": [
    "arima_res = pd.read_csv(\"arima_results.csv\")"
   ]
  },
  {
   "cell_type": "code",
   "execution_count": 3,
   "id": "e9a01448",
   "metadata": {},
   "outputs": [],
   "source": [
    "lstm_res = pd.read_csv(\"lstm_results.csv\")"
   ]
  },
  {
   "cell_type": "code",
   "execution_count": 4,
   "id": "832706a2",
   "metadata": {},
   "outputs": [],
   "source": [
    "cnn_res = pd.read_csv(\"cnn_results.csv\")"
   ]
  },
  {
   "cell_type": "code",
   "execution_count": 5,
   "id": "2b53c121",
   "metadata": {},
   "outputs": [],
   "source": [
    "cnn_lstm_res = pd.read_csv(\"cnn_lstm_results.csv\")"
   ]
  },
  {
   "cell_type": "code",
   "execution_count": 6,
   "id": "d72665b2",
   "metadata": {},
   "outputs": [],
   "source": [
    "res = pd.concat([arima_res, lstm_res, cnn_res, cnn_lstm_res])"
   ]
  },
  {
   "cell_type": "code",
   "execution_count": 7,
   "id": "94c970f8",
   "metadata": {},
   "outputs": [
    {
     "data": {
      "text/html": [
       "<div>\n",
       "<style scoped>\n",
       "    .dataframe tbody tr th:only-of-type {\n",
       "        vertical-align: middle;\n",
       "    }\n",
       "\n",
       "    .dataframe tbody tr th {\n",
       "        vertical-align: top;\n",
       "    }\n",
       "\n",
       "    .dataframe thead th {\n",
       "        text-align: right;\n",
       "    }\n",
       "</style>\n",
       "<table border=\"1\" class=\"dataframe\">\n",
       "  <thead>\n",
       "    <tr style=\"text-align: right;\">\n",
       "      <th></th>\n",
       "      <th>ALGORITHM</th>\n",
       "      <th>COMPANY</th>\n",
       "      <th>MEAN</th>\n",
       "      <th>STD</th>\n",
       "      <th>STD_MAX</th>\n",
       "      <th>STD_MIN</th>\n",
       "    </tr>\n",
       "  </thead>\n",
       "  <tbody>\n",
       "    <tr>\n",
       "      <th>0</th>\n",
       "      <td>ARIMA</td>\n",
       "      <td>AAPL</td>\n",
       "      <td>0.008992</td>\n",
       "      <td>0.002414</td>\n",
       "      <td>0.011406</td>\n",
       "      <td>0.006577</td>\n",
       "    </tr>\n",
       "    <tr>\n",
       "      <th>1</th>\n",
       "      <td>ARIMA</td>\n",
       "      <td>AMZN</td>\n",
       "      <td>0.010060</td>\n",
       "      <td>0.002780</td>\n",
       "      <td>0.012839</td>\n",
       "      <td>0.007280</td>\n",
       "    </tr>\n",
       "    <tr>\n",
       "      <th>2</th>\n",
       "      <td>ARIMA</td>\n",
       "      <td>FB</td>\n",
       "      <td>0.010063</td>\n",
       "      <td>0.002811</td>\n",
       "      <td>0.012874</td>\n",
       "      <td>0.007252</td>\n",
       "    </tr>\n",
       "    <tr>\n",
       "      <th>3</th>\n",
       "      <td>ARIMA</td>\n",
       "      <td>GOOG</td>\n",
       "      <td>0.008343</td>\n",
       "      <td>0.002235</td>\n",
       "      <td>0.010578</td>\n",
       "      <td>0.006108</td>\n",
       "    </tr>\n",
       "    <tr>\n",
       "      <th>4</th>\n",
       "      <td>ARIMA</td>\n",
       "      <td>MSFT</td>\n",
       "      <td>0.007961</td>\n",
       "      <td>0.002303</td>\n",
       "      <td>0.010264</td>\n",
       "      <td>0.005657</td>\n",
       "    </tr>\n",
       "    <tr>\n",
       "      <th>5</th>\n",
       "      <td>CNN</td>\n",
       "      <td>AAPL</td>\n",
       "      <td>0.018852</td>\n",
       "      <td>0.007698</td>\n",
       "      <td>0.026550</td>\n",
       "      <td>0.011154</td>\n",
       "    </tr>\n",
       "    <tr>\n",
       "      <th>6</th>\n",
       "      <td>CNN</td>\n",
       "      <td>AMZN</td>\n",
       "      <td>0.034009</td>\n",
       "      <td>0.015365</td>\n",
       "      <td>0.049374</td>\n",
       "      <td>0.018644</td>\n",
       "    </tr>\n",
       "    <tr>\n",
       "      <th>7</th>\n",
       "      <td>CNN</td>\n",
       "      <td>FB</td>\n",
       "      <td>0.029111</td>\n",
       "      <td>0.008984</td>\n",
       "      <td>0.038095</td>\n",
       "      <td>0.020127</td>\n",
       "    </tr>\n",
       "    <tr>\n",
       "      <th>8</th>\n",
       "      <td>CNN</td>\n",
       "      <td>GOOG</td>\n",
       "      <td>0.018339</td>\n",
       "      <td>0.009904</td>\n",
       "      <td>0.028242</td>\n",
       "      <td>0.008435</td>\n",
       "    </tr>\n",
       "    <tr>\n",
       "      <th>9</th>\n",
       "      <td>CNN</td>\n",
       "      <td>MSFT</td>\n",
       "      <td>0.019422</td>\n",
       "      <td>0.005411</td>\n",
       "      <td>0.024833</td>\n",
       "      <td>0.014012</td>\n",
       "    </tr>\n",
       "    <tr>\n",
       "      <th>10</th>\n",
       "      <td>CNN-LSTM</td>\n",
       "      <td>AAPL</td>\n",
       "      <td>0.015740</td>\n",
       "      <td>0.006126</td>\n",
       "      <td>0.021866</td>\n",
       "      <td>0.009614</td>\n",
       "    </tr>\n",
       "    <tr>\n",
       "      <th>11</th>\n",
       "      <td>CNN-LSTM</td>\n",
       "      <td>AMZN</td>\n",
       "      <td>0.030796</td>\n",
       "      <td>0.018490</td>\n",
       "      <td>0.049286</td>\n",
       "      <td>0.012306</td>\n",
       "    </tr>\n",
       "    <tr>\n",
       "      <th>12</th>\n",
       "      <td>CNN-LSTM</td>\n",
       "      <td>FB</td>\n",
       "      <td>0.014283</td>\n",
       "      <td>0.004754</td>\n",
       "      <td>0.019038</td>\n",
       "      <td>0.009529</td>\n",
       "    </tr>\n",
       "    <tr>\n",
       "      <th>13</th>\n",
       "      <td>CNN-LSTM</td>\n",
       "      <td>GOOG</td>\n",
       "      <td>0.014594</td>\n",
       "      <td>0.008692</td>\n",
       "      <td>0.023286</td>\n",
       "      <td>0.005902</td>\n",
       "    </tr>\n",
       "    <tr>\n",
       "      <th>14</th>\n",
       "      <td>CNN-LSTM</td>\n",
       "      <td>MSFT</td>\n",
       "      <td>0.016735</td>\n",
       "      <td>0.010321</td>\n",
       "      <td>0.027056</td>\n",
       "      <td>0.006414</td>\n",
       "    </tr>\n",
       "    <tr>\n",
       "      <th>15</th>\n",
       "      <td>LSTM</td>\n",
       "      <td>AAPL</td>\n",
       "      <td>0.014676</td>\n",
       "      <td>0.004671</td>\n",
       "      <td>0.019346</td>\n",
       "      <td>0.010005</td>\n",
       "    </tr>\n",
       "    <tr>\n",
       "      <th>16</th>\n",
       "      <td>LSTM</td>\n",
       "      <td>AMZN</td>\n",
       "      <td>0.032919</td>\n",
       "      <td>0.014762</td>\n",
       "      <td>0.047681</td>\n",
       "      <td>0.018157</td>\n",
       "    </tr>\n",
       "    <tr>\n",
       "      <th>17</th>\n",
       "      <td>LSTM</td>\n",
       "      <td>FB</td>\n",
       "      <td>0.021138</td>\n",
       "      <td>0.005527</td>\n",
       "      <td>0.026664</td>\n",
       "      <td>0.015611</td>\n",
       "    </tr>\n",
       "    <tr>\n",
       "      <th>18</th>\n",
       "      <td>LSTM</td>\n",
       "      <td>GOOG</td>\n",
       "      <td>0.013652</td>\n",
       "      <td>0.005284</td>\n",
       "      <td>0.018936</td>\n",
       "      <td>0.008368</td>\n",
       "    </tr>\n",
       "    <tr>\n",
       "      <th>19</th>\n",
       "      <td>LSTM</td>\n",
       "      <td>MSFT</td>\n",
       "      <td>0.019855</td>\n",
       "      <td>0.017503</td>\n",
       "      <td>0.037358</td>\n",
       "      <td>0.002352</td>\n",
       "    </tr>\n",
       "  </tbody>\n",
       "</table>\n",
       "</div>"
      ],
      "text/plain": [
       "   ALGORITHM COMPANY      MEAN       STD   STD_MAX   STD_MIN\n",
       "0      ARIMA    AAPL  0.008992  0.002414  0.011406  0.006577\n",
       "1      ARIMA    AMZN  0.010060  0.002780  0.012839  0.007280\n",
       "2      ARIMA      FB  0.010063  0.002811  0.012874  0.007252\n",
       "3      ARIMA    GOOG  0.008343  0.002235  0.010578  0.006108\n",
       "4      ARIMA    MSFT  0.007961  0.002303  0.010264  0.005657\n",
       "5        CNN    AAPL  0.018852  0.007698  0.026550  0.011154\n",
       "6        CNN    AMZN  0.034009  0.015365  0.049374  0.018644\n",
       "7        CNN      FB  0.029111  0.008984  0.038095  0.020127\n",
       "8        CNN    GOOG  0.018339  0.009904  0.028242  0.008435\n",
       "9        CNN    MSFT  0.019422  0.005411  0.024833  0.014012\n",
       "10  CNN-LSTM    AAPL  0.015740  0.006126  0.021866  0.009614\n",
       "11  CNN-LSTM    AMZN  0.030796  0.018490  0.049286  0.012306\n",
       "12  CNN-LSTM      FB  0.014283  0.004754  0.019038  0.009529\n",
       "13  CNN-LSTM    GOOG  0.014594  0.008692  0.023286  0.005902\n",
       "14  CNN-LSTM    MSFT  0.016735  0.010321  0.027056  0.006414\n",
       "15      LSTM    AAPL  0.014676  0.004671  0.019346  0.010005\n",
       "16      LSTM    AMZN  0.032919  0.014762  0.047681  0.018157\n",
       "17      LSTM      FB  0.021138  0.005527  0.026664  0.015611\n",
       "18      LSTM    GOOG  0.013652  0.005284  0.018936  0.008368\n",
       "19      LSTM    MSFT  0.019855  0.017503  0.037358  0.002352"
      ]
     },
     "execution_count": 7,
     "metadata": {},
     "output_type": "execute_result"
    }
   ],
   "source": [
    "grp = res[res[\"TYPE\"] == \"MAPE\"].groupby([\"ALGORITHM\", \"COMPANY\"]).mean()\n",
    "grp.rename(columns={\"ERROR\": \"MEAN\"}, inplace=True)\n",
    "grp[\"STD\"] = res[res[\"TYPE\"] == \"MAPE\"].groupby([\"ALGORITHM\", \"COMPANY\"]).std()[\"ERROR\"]\n",
    "grp[\"STD_MAX\"] = grp[\"MEAN\"] + grp[\"STD\"]\n",
    "grp[\"STD_MIN\"] = grp[\"MEAN\"] - grp[\"STD\"]\n",
    "grp.reset_index(inplace=True)\n",
    "grp"
   ]
  },
  {
   "cell_type": "code",
   "execution_count": 8,
   "id": "5e698b31",
   "metadata": {
    "scrolled": true
   },
   "outputs": [
    {
     "data": {
      "image/png": "[encoded data removed]",
      "text/plain": [
       "<Figure size 640x480 with 1 Axes>"
      ]
     },
     "metadata": {},
     "output_type": "display_data"
    },
    {
     "name": "stdout",
     "output_type": "stream",
     "text": [
      "\n"
     ]
    },
    {
     "name": "stderr",
     "output_type": "stream",
     "text": [
      "D:\\Anaconda\\envs\\su\\lib\\site-packages\\plotnine\\ggplot.py:719: PlotnineWarning: Saving 6.4 x 4.8 in image.\n",
      "D:\\Anaconda\\envs\\su\\lib\\site-packages\\plotnine\\ggplot.py:722: PlotnineWarning: Filename: test.png\n"
     ]
    }
   ],
   "source": [
    "from plotnine import *\n",
    "\n",
    "grpcol = [\"purple\", \"red\", \"green\", \"blue\"]\n",
    "\n",
    "grp.rename(columns={\"MEAN\": \"MAPE\"}, inplace=True)\n",
    "g = (\n",
    "    ggplot(grp, aes(x=\"COMPANY\", y=\"MAPE\", fill=\"ALGORITHM\")) +\n",
    "    geom_bar(stat=\"identity\", position=position_dodge()) +\n",
    "    geom_errorbar(aes(ymin=\"STD_MIN\", ymax=\"STD_MAX\"), position=position_dodge(0.9)) +\n",
    "    scale_fill_manual(values=grpcol)\n",
    ")\n",
    "print(g)\n",
    "ggsave(plot=g, filename='test.png', dpi=80)"
   ]
  },
  {
   "cell_type": "code",
   "execution_count": 9,
   "id": "3b8f977e",
   "metadata": {},
   "outputs": [
    {
     "data": {
      "text/html": [
       "<div>\n",
       "<style scoped>\n",
       "    .dataframe tbody tr th:only-of-type {\n",
       "        vertical-align: middle;\n",
       "    }\n",
       "\n",
       "    .dataframe tbody tr th {\n",
       "        vertical-align: top;\n",
       "    }\n",
       "\n",
       "    .dataframe thead th {\n",
       "        text-align: right;\n",
       "    }\n",
       "</style>\n",
       "<table border=\"1\" class=\"dataframe\">\n",
       "  <thead>\n",
       "    <tr style=\"text-align: right;\">\n",
       "      <th></th>\n",
       "      <th>ALGORITHM</th>\n",
       "      <th>MAPE</th>\n",
       "      <th>SDAPE</th>\n",
       "    </tr>\n",
       "  </thead>\n",
       "  <tbody>\n",
       "    <tr>\n",
       "      <th>0</th>\n",
       "      <td>ARIMA</td>\n",
       "      <td>0.009</td>\n",
       "      <td>0.003</td>\n",
       "    </tr>\n",
       "    <tr>\n",
       "      <th>1</th>\n",
       "      <td>CNN</td>\n",
       "      <td>0.024</td>\n",
       "      <td>0.009</td>\n",
       "    </tr>\n",
       "    <tr>\n",
       "      <th>2</th>\n",
       "      <td>CNN-LSTM</td>\n",
       "      <td>0.018</td>\n",
       "      <td>0.010</td>\n",
       "    </tr>\n",
       "    <tr>\n",
       "      <th>3</th>\n",
       "      <td>LSTM</td>\n",
       "      <td>0.020</td>\n",
       "      <td>0.010</td>\n",
       "    </tr>\n",
       "  </tbody>\n",
       "</table>\n",
       "</div>"
      ],
      "text/plain": [
       "  ALGORITHM   MAPE  SDAPE\n",
       "0     ARIMA  0.009  0.003\n",
       "1       CNN  0.024  0.009\n",
       "2  CNN-LSTM  0.018  0.010\n",
       "3      LSTM  0.020  0.010"
      ]
     },
     "execution_count": 9,
     "metadata": {},
     "output_type": "execute_result"
    }
   ],
   "source": [
    "outt = grp.groupby(\"ALGORITHM\").mean()\n",
    "outt = outt.reset_index()\n",
    "outt.rename(columns={\"STD\": \"SDAPE\"}, inplace=True)\n",
    "outt = outt[[\"ALGORITHM\", \"MAPE\", \"SDAPE\"]]\n",
    "outt = outt.round(3)\n",
    "outt"
   ]
  },
  {
   "cell_type": "code",
   "execution_count": 10,
   "id": "4422acec",
   "metadata": {},
   "outputs": [
    {
     "data": {
      "text/html": [
       "<div>\n",
       "<style scoped>\n",
       "    .dataframe tbody tr th:only-of-type {\n",
       "        vertical-align: middle;\n",
       "    }\n",
       "\n",
       "    .dataframe tbody tr th {\n",
       "        vertical-align: top;\n",
       "    }\n",
       "\n",
       "    .dataframe thead th {\n",
       "        text-align: right;\n",
       "    }\n",
       "</style>\n",
       "<table border=\"1\" class=\"dataframe\">\n",
       "  <thead>\n",
       "    <tr style=\"text-align: right;\">\n",
       "      <th></th>\n",
       "      <th>ALGORITHM</th>\n",
       "      <th>COMPANY</th>\n",
       "      <th>RMSE</th>\n",
       "      <th>STD</th>\n",
       "      <th>STD_MAX</th>\n",
       "      <th>STD_MIN</th>\n",
       "    </tr>\n",
       "  </thead>\n",
       "  <tbody>\n",
       "    <tr>\n",
       "      <th>0</th>\n",
       "      <td>ARIMA</td>\n",
       "      <td>AAPL</td>\n",
       "      <td>0.642592</td>\n",
       "      <td>0.366267</td>\n",
       "      <td>1.008859</td>\n",
       "      <td>0.276325</td>\n",
       "    </tr>\n",
       "    <tr>\n",
       "      <th>1</th>\n",
       "      <td>ARIMA</td>\n",
       "      <td>AMZN</td>\n",
       "      <td>22.110443</td>\n",
       "      <td>12.607098</td>\n",
       "      <td>34.717541</td>\n",
       "      <td>9.503344</td>\n",
       "    </tr>\n",
       "    <tr>\n",
       "      <th>2</th>\n",
       "      <td>ARIMA</td>\n",
       "      <td>FB</td>\n",
       "      <td>2.587796</td>\n",
       "      <td>0.999580</td>\n",
       "      <td>3.587376</td>\n",
       "      <td>1.588216</td>\n",
       "    </tr>\n",
       "    <tr>\n",
       "      <th>3</th>\n",
       "      <td>ARIMA</td>\n",
       "      <td>GOOG</td>\n",
       "      <td>13.519255</td>\n",
       "      <td>5.530287</td>\n",
       "      <td>19.049543</td>\n",
       "      <td>7.988968</td>\n",
       "    </tr>\n",
       "    <tr>\n",
       "      <th>4</th>\n",
       "      <td>ARIMA</td>\n",
       "      <td>MSFT</td>\n",
       "      <td>1.259657</td>\n",
       "      <td>0.832960</td>\n",
       "      <td>2.092616</td>\n",
       "      <td>0.426697</td>\n",
       "    </tr>\n",
       "    <tr>\n",
       "      <th>5</th>\n",
       "      <td>CNN</td>\n",
       "      <td>AAPL</td>\n",
       "      <td>1.060017</td>\n",
       "      <td>0.530971</td>\n",
       "      <td>1.590987</td>\n",
       "      <td>0.529046</td>\n",
       "    </tr>\n",
       "    <tr>\n",
       "      <th>6</th>\n",
       "      <td>CNN</td>\n",
       "      <td>AMZN</td>\n",
       "      <td>52.720712</td>\n",
       "      <td>24.772149</td>\n",
       "      <td>77.492861</td>\n",
       "      <td>27.948563</td>\n",
       "    </tr>\n",
       "    <tr>\n",
       "      <th>7</th>\n",
       "      <td>CNN</td>\n",
       "      <td>FB</td>\n",
       "      <td>5.672436</td>\n",
       "      <td>1.779762</td>\n",
       "      <td>7.452198</td>\n",
       "      <td>3.892674</td>\n",
       "    </tr>\n",
       "    <tr>\n",
       "      <th>8</th>\n",
       "      <td>CNN</td>\n",
       "      <td>GOOG</td>\n",
       "      <td>24.277380</td>\n",
       "      <td>14.063829</td>\n",
       "      <td>38.341209</td>\n",
       "      <td>10.213551</td>\n",
       "    </tr>\n",
       "    <tr>\n",
       "      <th>9</th>\n",
       "      <td>CNN</td>\n",
       "      <td>MSFT</td>\n",
       "      <td>2.555712</td>\n",
       "      <td>2.048179</td>\n",
       "      <td>4.603891</td>\n",
       "      <td>0.507533</td>\n",
       "    </tr>\n",
       "    <tr>\n",
       "      <th>10</th>\n",
       "      <td>CNN-LSTM</td>\n",
       "      <td>AAPL</td>\n",
       "      <td>0.889226</td>\n",
       "      <td>0.406627</td>\n",
       "      <td>1.295853</td>\n",
       "      <td>0.482599</td>\n",
       "    </tr>\n",
       "    <tr>\n",
       "      <th>11</th>\n",
       "      <td>CNN-LSTM</td>\n",
       "      <td>AMZN</td>\n",
       "      <td>44.921863</td>\n",
       "      <td>28.325411</td>\n",
       "      <td>73.247275</td>\n",
       "      <td>16.596452</td>\n",
       "    </tr>\n",
       "    <tr>\n",
       "      <th>12</th>\n",
       "      <td>CNN-LSTM</td>\n",
       "      <td>FB</td>\n",
       "      <td>3.206929</td>\n",
       "      <td>1.467997</td>\n",
       "      <td>4.674926</td>\n",
       "      <td>1.738931</td>\n",
       "    </tr>\n",
       "    <tr>\n",
       "      <th>13</th>\n",
       "      <td>CNN-LSTM</td>\n",
       "      <td>GOOG</td>\n",
       "      <td>18.674999</td>\n",
       "      <td>10.367260</td>\n",
       "      <td>29.042259</td>\n",
       "      <td>8.307740</td>\n",
       "    </tr>\n",
       "    <tr>\n",
       "      <th>14</th>\n",
       "      <td>CNN-LSTM</td>\n",
       "      <td>MSFT</td>\n",
       "      <td>2.114195</td>\n",
       "      <td>1.669160</td>\n",
       "      <td>3.783355</td>\n",
       "      <td>0.445035</td>\n",
       "    </tr>\n",
       "    <tr>\n",
       "      <th>15</th>\n",
       "      <td>LSTM</td>\n",
       "      <td>AAPL</td>\n",
       "      <td>0.880053</td>\n",
       "      <td>0.443544</td>\n",
       "      <td>1.323597</td>\n",
       "      <td>0.436509</td>\n",
       "    </tr>\n",
       "    <tr>\n",
       "      <th>16</th>\n",
       "      <td>LSTM</td>\n",
       "      <td>AMZN</td>\n",
       "      <td>54.792483</td>\n",
       "      <td>32.341232</td>\n",
       "      <td>87.133715</td>\n",
       "      <td>22.451252</td>\n",
       "    </tr>\n",
       "    <tr>\n",
       "      <th>17</th>\n",
       "      <td>LSTM</td>\n",
       "      <td>FB</td>\n",
       "      <td>4.408920</td>\n",
       "      <td>1.734609</td>\n",
       "      <td>6.143528</td>\n",
       "      <td>2.674311</td>\n",
       "    </tr>\n",
       "    <tr>\n",
       "      <th>18</th>\n",
       "      <td>LSTM</td>\n",
       "      <td>GOOG</td>\n",
       "      <td>17.452170</td>\n",
       "      <td>6.629095</td>\n",
       "      <td>24.081265</td>\n",
       "      <td>10.823075</td>\n",
       "    </tr>\n",
       "    <tr>\n",
       "      <th>19</th>\n",
       "      <td>LSTM</td>\n",
       "      <td>MSFT</td>\n",
       "      <td>3.062685</td>\n",
       "      <td>3.665259</td>\n",
       "      <td>6.727944</td>\n",
       "      <td>-0.602574</td>\n",
       "    </tr>\n",
       "  </tbody>\n",
       "</table>\n",
       "</div>"
      ],
      "text/plain": [
       "   ALGORITHM COMPANY       RMSE        STD    STD_MAX    STD_MIN\n",
       "0      ARIMA    AAPL   0.642592   0.366267   1.008859   0.276325\n",
       "1      ARIMA    AMZN  22.110443  12.607098  34.717541   9.503344\n",
       "2      ARIMA      FB   2.587796   0.999580   3.587376   1.588216\n",
       "3      ARIMA    GOOG  13.519255   5.530287  19.049543   7.988968\n",
       "4      ARIMA    MSFT   1.259657   0.832960   2.092616   0.426697\n",
       "5        CNN    AAPL   1.060017   0.530971   1.590987   0.529046\n",
       "6        CNN    AMZN  52.720712  24.772149  77.492861  27.948563\n",
       "7        CNN      FB   5.672436   1.779762   7.452198   3.892674\n",
       "8        CNN    GOOG  24.277380  14.063829  38.341209  10.213551\n",
       "9        CNN    MSFT   2.555712   2.048179   4.603891   0.507533\n",
       "10  CNN-LSTM    AAPL   0.889226   0.406627   1.295853   0.482599\n",
       "11  CNN-LSTM    AMZN  44.921863  28.325411  73.247275  16.596452\n",
       "12  CNN-LSTM      FB   3.206929   1.467997   4.674926   1.738931\n",
       "13  CNN-LSTM    GOOG  18.674999  10.367260  29.042259   8.307740\n",
       "14  CNN-LSTM    MSFT   2.114195   1.669160   3.783355   0.445035\n",
       "15      LSTM    AAPL   0.880053   0.443544   1.323597   0.436509\n",
       "16      LSTM    AMZN  54.792483  32.341232  87.133715  22.451252\n",
       "17      LSTM      FB   4.408920   1.734609   6.143528   2.674311\n",
       "18      LSTM    GOOG  17.452170   6.629095  24.081265  10.823075\n",
       "19      LSTM    MSFT   3.062685   3.665259   6.727944  -0.602574"
      ]
     },
     "execution_count": 10,
     "metadata": {},
     "output_type": "execute_result"
    }
   ],
   "source": [
    "grp = res[res[\"TYPE\"] == \"RMSE\"].groupby([\"ALGORITHM\", \"COMPANY\"]).mean()\n",
    "grp.rename(columns={\"ERROR\": \"RMSE\"}, inplace=True)\n",
    "grp[\"STD\"] = res[res[\"TYPE\"] == \"RMSE\"].groupby([\"ALGORITHM\", \"COMPANY\"]).std()[\"ERROR\"]\n",
    "grp[\"STD_MAX\"] = grp[\"RMSE\"] + grp[\"STD\"]\n",
    "grp[\"STD_MIN\"] = grp[\"RMSE\"] - grp[\"STD\"]\n",
    "grp.reset_index(inplace=True)\n",
    "grp"
   ]
  },
  {
   "cell_type": "code",
   "execution_count": 11,
   "id": "3ace2d53",
   "metadata": {},
   "outputs": [
    {
     "data": {
      "text/html": [
       "<div>\n",
       "<style scoped>\n",
       "    .dataframe tbody tr th:only-of-type {\n",
       "        vertical-align: middle;\n",
       "    }\n",
       "\n",
       "    .dataframe tbody tr th {\n",
       "        vertical-align: top;\n",
       "    }\n",
       "\n",
       "    .dataframe thead th {\n",
       "        text-align: right;\n",
       "    }\n",
       "</style>\n",
       "<table border=\"1\" class=\"dataframe\">\n",
       "  <thead>\n",
       "    <tr style=\"text-align: right;\">\n",
       "      <th></th>\n",
       "      <th>ALGORITHM</th>\n",
       "      <th>MAPE</th>\n",
       "      <th>SDAPE</th>\n",
       "      <th>RMSE</th>\n",
       "      <th>SDMSE</th>\n",
       "    </tr>\n",
       "  </thead>\n",
       "  <tbody>\n",
       "    <tr>\n",
       "      <th>0</th>\n",
       "      <td>ARIMA</td>\n",
       "      <td>0.009</td>\n",
       "      <td>0.003</td>\n",
       "      <td>8.02</td>\n",
       "      <td>4.07</td>\n",
       "    </tr>\n",
       "    <tr>\n",
       "      <th>1</th>\n",
       "      <td>CNN</td>\n",
       "      <td>0.024</td>\n",
       "      <td>0.009</td>\n",
       "      <td>17.26</td>\n",
       "      <td>8.64</td>\n",
       "    </tr>\n",
       "    <tr>\n",
       "      <th>2</th>\n",
       "      <td>CNN-LSTM</td>\n",
       "      <td>0.018</td>\n",
       "      <td>0.010</td>\n",
       "      <td>13.96</td>\n",
       "      <td>8.45</td>\n",
       "    </tr>\n",
       "    <tr>\n",
       "      <th>3</th>\n",
       "      <td>LSTM</td>\n",
       "      <td>0.020</td>\n",
       "      <td>0.010</td>\n",
       "      <td>16.12</td>\n",
       "      <td>8.96</td>\n",
       "    </tr>\n",
       "  </tbody>\n",
       "</table>\n",
       "</div>"
      ],
      "text/plain": [
       "  ALGORITHM   MAPE  SDAPE   RMSE  SDMSE\n",
       "0     ARIMA  0.009  0.003   8.02   4.07\n",
       "1       CNN  0.024  0.009  17.26   8.64\n",
       "2  CNN-LSTM  0.018  0.010  13.96   8.45\n",
       "3      LSTM  0.020  0.010  16.12   8.96"
      ]
     },
     "execution_count": 11,
     "metadata": {},
     "output_type": "execute_result"
    }
   ],
   "source": [
    "outt2 = grp.groupby(\"ALGORITHM\").mean()\n",
    "outt2 = outt2.reset_index()\n",
    "outt2.rename(columns={\"STD\": \"SDMSE\"}, inplace=True)\n",
    "outt2 = outt2[[\"ALGORITHM\", \"RMSE\", \"SDMSE\"]]\n",
    "outt[\"RMSE\"] = outt2[\"RMSE\"].round(2)\n",
    "outt[\"SDMSE\"] = outt2[\"SDMSE\"].round(2)\n",
    "outt.to_latex(\"res1.tex\", index=False)\n",
    "outt"
   ]
  },
  {
   "cell_type": "code",
   "execution_count": 12,
   "id": "bec902b5",
   "metadata": {},
   "outputs": [
    {
     "data": {
      "text/html": [
       "<div>\n",
       "<style scoped>\n",
       "    .dataframe tbody tr th:only-of-type {\n",
       "        vertical-align: middle;\n",
       "    }\n",
       "\n",
       "    .dataframe tbody tr th {\n",
       "        vertical-align: top;\n",
       "    }\n",
       "\n",
       "    .dataframe thead th {\n",
       "        text-align: right;\n",
       "    }\n",
       "</style>\n",
       "<table border=\"1\" class=\"dataframe\">\n",
       "  <thead>\n",
       "    <tr style=\"text-align: right;\">\n",
       "      <th></th>\n",
       "      <th>ALGORITHM</th>\n",
       "      <th>START</th>\n",
       "      <th>END</th>\n",
       "      <th>TYPE</th>\n",
       "      <th>COMPANY</th>\n",
       "      <th>ERROR</th>\n",
       "    </tr>\n",
       "  </thead>\n",
       "  <tbody>\n",
       "    <tr>\n",
       "      <th>0</th>\n",
       "      <td>LSTM</td>\n",
       "      <td>2010-06-01</td>\n",
       "      <td>2015-06-01</td>\n",
       "      <td>RMSE</td>\n",
       "      <td>AAPL</td>\n",
       "      <td>0.589854</td>\n",
       "    </tr>\n",
       "    <tr>\n",
       "      <th>2</th>\n",
       "      <td>LSTM</td>\n",
       "      <td>2011-01-01</td>\n",
       "      <td>2016-01-01</td>\n",
       "      <td>RMSE</td>\n",
       "      <td>AAPL</td>\n",
       "      <td>0.354320</td>\n",
       "    </tr>\n",
       "    <tr>\n",
       "      <th>4</th>\n",
       "      <td>LSTM</td>\n",
       "      <td>2011-06-01</td>\n",
       "      <td>2016-06-01</td>\n",
       "      <td>RMSE</td>\n",
       "      <td>AAPL</td>\n",
       "      <td>0.441114</td>\n",
       "    </tr>\n",
       "    <tr>\n",
       "      <th>6</th>\n",
       "      <td>LSTM</td>\n",
       "      <td>2012-01-01</td>\n",
       "      <td>2017-01-01</td>\n",
       "      <td>RMSE</td>\n",
       "      <td>AAPL</td>\n",
       "      <td>0.473710</td>\n",
       "    </tr>\n",
       "    <tr>\n",
       "      <th>8</th>\n",
       "      <td>LSTM</td>\n",
       "      <td>2012-06-01</td>\n",
       "      <td>2017-06-01</td>\n",
       "      <td>RMSE</td>\n",
       "      <td>AAPL</td>\n",
       "      <td>0.864325</td>\n",
       "    </tr>\n",
       "    <tr>\n",
       "      <th>10</th>\n",
       "      <td>LSTM</td>\n",
       "      <td>2013-01-01</td>\n",
       "      <td>2018-01-01</td>\n",
       "      <td>RMSE</td>\n",
       "      <td>AAPL</td>\n",
       "      <td>1.394233</td>\n",
       "    </tr>\n",
       "    <tr>\n",
       "      <th>12</th>\n",
       "      <td>LSTM</td>\n",
       "      <td>2013-06-01</td>\n",
       "      <td>2018-06-01</td>\n",
       "      <td>RMSE</td>\n",
       "      <td>AAPL</td>\n",
       "      <td>1.322082</td>\n",
       "    </tr>\n",
       "    <tr>\n",
       "      <th>14</th>\n",
       "      <td>LSTM</td>\n",
       "      <td>2014-01-01</td>\n",
       "      <td>2019-01-01</td>\n",
       "      <td>RMSE</td>\n",
       "      <td>AAPL</td>\n",
       "      <td>0.979928</td>\n",
       "    </tr>\n",
       "    <tr>\n",
       "      <th>16</th>\n",
       "      <td>LSTM</td>\n",
       "      <td>2014-06-01</td>\n",
       "      <td>2019-06-01</td>\n",
       "      <td>RMSE</td>\n",
       "      <td>AAPL</td>\n",
       "      <td>1.500909</td>\n",
       "    </tr>\n",
       "  </tbody>\n",
       "</table>\n",
       "</div>"
      ],
      "text/plain": [
       "   ALGORITHM       START         END  TYPE COMPANY     ERROR\n",
       "0       LSTM  2010-06-01  2015-06-01  RMSE    AAPL  0.589854\n",
       "2       LSTM  2011-01-01  2016-01-01  RMSE    AAPL  0.354320\n",
       "4       LSTM  2011-06-01  2016-06-01  RMSE    AAPL  0.441114\n",
       "6       LSTM  2012-01-01  2017-01-01  RMSE    AAPL  0.473710\n",
       "8       LSTM  2012-06-01  2017-06-01  RMSE    AAPL  0.864325\n",
       "10      LSTM  2013-01-01  2018-01-01  RMSE    AAPL  1.394233\n",
       "12      LSTM  2013-06-01  2018-06-01  RMSE    AAPL  1.322082\n",
       "14      LSTM  2014-01-01  2019-01-01  RMSE    AAPL  0.979928\n",
       "16      LSTM  2014-06-01  2019-06-01  RMSE    AAPL  1.500909"
      ]
     },
     "execution_count": 12,
     "metadata": {},
     "output_type": "execute_result"
    }
   ],
   "source": [
    "lstm_res[(cnn_res[\"COMPANY\"] == \"AAPL\") & (cnn_res[\"TYPE\"] == \"RMSE\")]"
   ]
  },
  {
   "cell_type": "code",
   "execution_count": 13,
   "id": "61d59c66",
   "metadata": {},
   "outputs": [
    {
     "data": {
      "text/html": [
       "<div>\n",
       "<style scoped>\n",
       "    .dataframe tbody tr th:only-of-type {\n",
       "        vertical-align: middle;\n",
       "    }\n",
       "\n",
       "    .dataframe tbody tr th {\n",
       "        vertical-align: top;\n",
       "    }\n",
       "\n",
       "    .dataframe thead th {\n",
       "        text-align: right;\n",
       "    }\n",
       "</style>\n",
       "<table border=\"1\" class=\"dataframe\">\n",
       "  <thead>\n",
       "    <tr style=\"text-align: right;\">\n",
       "      <th></th>\n",
       "      <th>ALGORITHM</th>\n",
       "      <th>START</th>\n",
       "      <th>END</th>\n",
       "      <th>TYPE</th>\n",
       "      <th>COMPANY</th>\n",
       "      <th>ERROR</th>\n",
       "    </tr>\n",
       "  </thead>\n",
       "  <tbody>\n",
       "    <tr>\n",
       "      <th>18</th>\n",
       "      <td>ARIMA</td>\n",
       "      <td>2010-06-01</td>\n",
       "      <td>2015-06-01</td>\n",
       "      <td>RMSE</td>\n",
       "      <td>AMZN</td>\n",
       "      <td>11.405404</td>\n",
       "    </tr>\n",
       "    <tr>\n",
       "      <th>20</th>\n",
       "      <td>ARIMA</td>\n",
       "      <td>2011-01-01</td>\n",
       "      <td>2016-01-01</td>\n",
       "      <td>RMSE</td>\n",
       "      <td>AMZN</td>\n",
       "      <td>9.185248</td>\n",
       "    </tr>\n",
       "    <tr>\n",
       "      <th>22</th>\n",
       "      <td>ARIMA</td>\n",
       "      <td>2011-06-01</td>\n",
       "      <td>2016-06-01</td>\n",
       "      <td>RMSE</td>\n",
       "      <td>AMZN</td>\n",
       "      <td>9.121675</td>\n",
       "    </tr>\n",
       "    <tr>\n",
       "      <th>24</th>\n",
       "      <td>ARIMA</td>\n",
       "      <td>2012-01-01</td>\n",
       "      <td>2017-01-01</td>\n",
       "      <td>RMSE</td>\n",
       "      <td>AMZN</td>\n",
       "      <td>12.413973</td>\n",
       "    </tr>\n",
       "    <tr>\n",
       "      <th>26</th>\n",
       "      <td>ARIMA</td>\n",
       "      <td>2012-06-01</td>\n",
       "      <td>2017-06-01</td>\n",
       "      <td>RMSE</td>\n",
       "      <td>AMZN</td>\n",
       "      <td>23.483315</td>\n",
       "    </tr>\n",
       "    <tr>\n",
       "      <th>28</th>\n",
       "      <td>ARIMA</td>\n",
       "      <td>2013-01-01</td>\n",
       "      <td>2018-01-01</td>\n",
       "      <td>RMSE</td>\n",
       "      <td>AMZN</td>\n",
       "      <td>37.089340</td>\n",
       "    </tr>\n",
       "    <tr>\n",
       "      <th>30</th>\n",
       "      <td>ARIMA</td>\n",
       "      <td>2013-06-01</td>\n",
       "      <td>2018-06-01</td>\n",
       "      <td>RMSE</td>\n",
       "      <td>AMZN</td>\n",
       "      <td>36.441232</td>\n",
       "    </tr>\n",
       "    <tr>\n",
       "      <th>32</th>\n",
       "      <td>ARIMA</td>\n",
       "      <td>2014-01-01</td>\n",
       "      <td>2019-01-01</td>\n",
       "      <td>RMSE</td>\n",
       "      <td>AMZN</td>\n",
       "      <td>20.618149</td>\n",
       "    </tr>\n",
       "    <tr>\n",
       "      <th>34</th>\n",
       "      <td>ARIMA</td>\n",
       "      <td>2014-06-01</td>\n",
       "      <td>2019-06-01</td>\n",
       "      <td>RMSE</td>\n",
       "      <td>AMZN</td>\n",
       "      <td>39.235648</td>\n",
       "    </tr>\n",
       "  </tbody>\n",
       "</table>\n",
       "</div>"
      ],
      "text/plain": [
       "   ALGORITHM       START         END  TYPE COMPANY      ERROR\n",
       "18     ARIMA  2010-06-01  2015-06-01  RMSE    AMZN  11.405404\n",
       "20     ARIMA  2011-01-01  2016-01-01  RMSE    AMZN   9.185248\n",
       "22     ARIMA  2011-06-01  2016-06-01  RMSE    AMZN   9.121675\n",
       "24     ARIMA  2012-01-01  2017-01-01  RMSE    AMZN  12.413973\n",
       "26     ARIMA  2012-06-01  2017-06-01  RMSE    AMZN  23.483315\n",
       "28     ARIMA  2013-01-01  2018-01-01  RMSE    AMZN  37.089340\n",
       "30     ARIMA  2013-06-01  2018-06-01  RMSE    AMZN  36.441232\n",
       "32     ARIMA  2014-01-01  2019-01-01  RMSE    AMZN  20.618149\n",
       "34     ARIMA  2014-06-01  2019-06-01  RMSE    AMZN  39.235648"
      ]
     },
     "execution_count": 13,
     "metadata": {},
     "output_type": "execute_result"
    }
   ],
   "source": [
    "arima_res[(arima_res[\"COMPANY\"] == \"AMZN\") & (arima_res[\"TYPE\"] == \"RMSE\")]"
   ]
  },
  {
   "cell_type": "code",
   "execution_count": 14,
   "id": "e7293ca9",
   "metadata": {},
   "outputs": [],
   "source": [
    "tms1 = pd.read_csv(\"./data/AAPL_residuals.csv\")[\"Open\"][60:]\n",
    "tms2 = pd.read_csv(\"./data/AMZN_residuals.csv\")[\"Open\"][60:]\n",
    "tms3 = pd.read_csv(\"./data/FB_residuals.csv\")[\"Open\"][60:]\n",
    "tms4 = pd.read_csv(\"./data/GOOG_residuals.csv\")[\"Open\"][60:]\n",
    "tms5 = pd.read_csv(\"./data/MSFT_residuals.csv\")[\"Open\"][60:]"
   ]
  },
  {
   "cell_type": "markdown",
   "id": "af178c40",
   "metadata": {},
   "source": [
    "## Residuals"
   ]
  },
  {
   "cell_type": "code",
   "execution_count": 15,
   "id": "80b7287e",
   "metadata": {},
   "outputs": [
    {
     "name": "stdout",
     "output_type": "stream",
     "text": [
      "ADF Statistic: -10.913555\n",
      "p-value: 0.000000\n",
      "Critical Values:\n",
      "\t1%: -3.433\n",
      "\t5%: -2.863\n",
      "\t10%: -2.567\n",
      "ADF Statistic: -12.534215\n",
      "p-value: 0.000000\n",
      "Critical Values:\n",
      "\t1%: -3.433\n",
      "\t5%: -2.863\n",
      "\t10%: -2.567\n",
      "ADF Statistic: -46.815927\n",
      "p-value: 0.000000\n",
      "Critical Values:\n",
      "\t1%: -3.433\n",
      "\t5%: -2.863\n",
      "\t10%: -2.567\n",
      "ADF Statistic: -11.268106\n",
      "p-value: 0.000000\n",
      "Critical Values:\n",
      "\t1%: -3.433\n",
      "\t5%: -2.863\n",
      "\t10%: -2.567\n",
      "ADF Statistic: -13.725297\n",
      "p-value: 0.000000\n",
      "Critical Values:\n",
      "\t1%: -3.433\n",
      "\t5%: -2.863\n",
      "\t10%: -2.567\n"
     ]
    }
   ],
   "source": [
    "from statsmodels.tsa.stattools import adfuller\n",
    "for tms in [tms1,tms2,tms3,tms4,tms5]:\n",
    "    result = adfuller(tms)\n",
    "    print('ADF Statistic: %f' % result[0])\n",
    "    print('p-value: %f' % result[1])\n",
    "    print('Critical Values:')\n",
    "    for key, value in result[4].items():\n",
    "        print('\\t%s: %.3f' % (key, value))\n"
   ]
  },
  {
   "cell_type": "code",
   "execution_count": 16,
   "id": "ac26db72",
   "metadata": {},
   "outputs": [
    {
     "data": {
      "text/html": [
       "<div>\n",
       "<style scoped>\n",
       "    .dataframe tbody tr th:only-of-type {\n",
       "        vertical-align: middle;\n",
       "    }\n",
       "\n",
       "    .dataframe tbody tr th {\n",
       "        vertical-align: top;\n",
       "    }\n",
       "\n",
       "    .dataframe thead th {\n",
       "        text-align: right;\n",
       "    }\n",
       "</style>\n",
       "<table border=\"1\" class=\"dataframe\">\n",
       "  <thead>\n",
       "    <tr style=\"text-align: right;\">\n",
       "      <th></th>\n",
       "      <th>ALGORITHM</th>\n",
       "      <th>START</th>\n",
       "      <th>END</th>\n",
       "      <th>TYPE</th>\n",
       "      <th>COMPANY</th>\n",
       "      <th>ERROR</th>\n",
       "    </tr>\n",
       "  </thead>\n",
       "  <tbody>\n",
       "    <tr>\n",
       "      <th>0</th>\n",
       "      <td>ARIMA</td>\n",
       "      <td>2010-06-01</td>\n",
       "      <td>2015-06-01</td>\n",
       "      <td>RMSE</td>\n",
       "      <td>AAPL</td>\n",
       "      <td>0.481616</td>\n",
       "    </tr>\n",
       "    <tr>\n",
       "      <th>1</th>\n",
       "      <td>ARIMA</td>\n",
       "      <td>2010-06-01</td>\n",
       "      <td>2015-06-01</td>\n",
       "      <td>MAPE</td>\n",
       "      <td>AAPL</td>\n",
       "      <td>0.011169</td>\n",
       "    </tr>\n",
       "    <tr>\n",
       "      <th>2</th>\n",
       "      <td>ARIMA</td>\n",
       "      <td>2011-01-01</td>\n",
       "      <td>2016-01-01</td>\n",
       "      <td>RMSE</td>\n",
       "      <td>AAPL</td>\n",
       "      <td>0.326999</td>\n",
       "    </tr>\n",
       "    <tr>\n",
       "      <th>3</th>\n",
       "      <td>ARIMA</td>\n",
       "      <td>2011-01-01</td>\n",
       "      <td>2016-01-01</td>\n",
       "      <td>MAPE</td>\n",
       "      <td>AAPL</td>\n",
       "      <td>0.007181</td>\n",
       "    </tr>\n",
       "    <tr>\n",
       "      <th>4</th>\n",
       "      <td>ARIMA</td>\n",
       "      <td>2011-06-01</td>\n",
       "      <td>2016-06-01</td>\n",
       "      <td>RMSE</td>\n",
       "      <td>AAPL</td>\n",
       "      <td>0.303102</td>\n",
       "    </tr>\n",
       "    <tr>\n",
       "      <th>...</th>\n",
       "      <td>...</td>\n",
       "      <td>...</td>\n",
       "      <td>...</td>\n",
       "      <td>...</td>\n",
       "      <td>...</td>\n",
       "      <td>...</td>\n",
       "    </tr>\n",
       "    <tr>\n",
       "      <th>85</th>\n",
       "      <td>CNN-LSTM</td>\n",
       "      <td>2013-06-01</td>\n",
       "      <td>2018-06-01</td>\n",
       "      <td>MAPE</td>\n",
       "      <td>MSFT</td>\n",
       "      <td>1.376633</td>\n",
       "    </tr>\n",
       "    <tr>\n",
       "      <th>86</th>\n",
       "      <td>CNN-LSTM</td>\n",
       "      <td>2014-01-01</td>\n",
       "      <td>2019-01-01</td>\n",
       "      <td>RMSE</td>\n",
       "      <td>MSFT</td>\n",
       "      <td>1.296789</td>\n",
       "    </tr>\n",
       "    <tr>\n",
       "      <th>87</th>\n",
       "      <td>CNN-LSTM</td>\n",
       "      <td>2014-01-01</td>\n",
       "      <td>2019-01-01</td>\n",
       "      <td>MAPE</td>\n",
       "      <td>MSFT</td>\n",
       "      <td>3.043468</td>\n",
       "    </tr>\n",
       "    <tr>\n",
       "      <th>88</th>\n",
       "      <td>CNN-LSTM</td>\n",
       "      <td>2014-06-01</td>\n",
       "      <td>2019-06-01</td>\n",
       "      <td>RMSE</td>\n",
       "      <td>MSFT</td>\n",
       "      <td>2.922341</td>\n",
       "    </tr>\n",
       "    <tr>\n",
       "      <th>89</th>\n",
       "      <td>CNN-LSTM</td>\n",
       "      <td>2014-06-01</td>\n",
       "      <td>2019-06-01</td>\n",
       "      <td>MAPE</td>\n",
       "      <td>MSFT</td>\n",
       "      <td>41.111980</td>\n",
       "    </tr>\n",
       "  </tbody>\n",
       "</table>\n",
       "<p>360 rows × 6 columns</p>\n",
       "</div>"
      ],
      "text/plain": [
       "   ALGORITHM       START         END  TYPE COMPANY      ERROR\n",
       "0      ARIMA  2010-06-01  2015-06-01  RMSE    AAPL   0.481616\n",
       "1      ARIMA  2010-06-01  2015-06-01  MAPE    AAPL   0.011169\n",
       "2      ARIMA  2011-01-01  2016-01-01  RMSE    AAPL   0.326999\n",
       "3      ARIMA  2011-01-01  2016-01-01  MAPE    AAPL   0.007181\n",
       "4      ARIMA  2011-06-01  2016-06-01  RMSE    AAPL   0.303102\n",
       "..       ...         ...         ...   ...     ...        ...\n",
       "85  CNN-LSTM  2013-06-01  2018-06-01  MAPE    MSFT   1.376633\n",
       "86  CNN-LSTM  2014-01-01  2019-01-01  RMSE    MSFT   1.296789\n",
       "87  CNN-LSTM  2014-01-01  2019-01-01  MAPE    MSFT   3.043468\n",
       "88  CNN-LSTM  2014-06-01  2019-06-01  RMSE    MSFT   2.922341\n",
       "89  CNN-LSTM  2014-06-01  2019-06-01  MAPE    MSFT  41.111980\n",
       "\n",
       "[360 rows x 6 columns]"
      ]
     },
     "execution_count": 16,
     "metadata": {},
     "output_type": "execute_result"
    }
   ],
   "source": [
    "lstm_res = pd.read_csv(\"./models/lstm_rez_results.csv\")\n",
    "cnn_res = pd.read_csv(\"./models/cnn_rez_results.csv\")\n",
    "cnn_lstm_res = pd.read_csv(\"./models/cnn_lstm_rez_results.csv\")\n",
    "res = pd.concat([arima_res, lstm_res, cnn_res, cnn_lstm_res])\n",
    "res"
   ]
  },
  {
   "cell_type": "code",
   "execution_count": 17,
   "id": "fabb53fa",
   "metadata": {},
   "outputs": [
    {
     "data": {
      "text/html": [
       "<div>\n",
       "<style scoped>\n",
       "    .dataframe tbody tr th:only-of-type {\n",
       "        vertical-align: middle;\n",
       "    }\n",
       "\n",
       "    .dataframe tbody tr th {\n",
       "        vertical-align: top;\n",
       "    }\n",
       "\n",
       "    .dataframe thead tr th {\n",
       "        text-align: left;\n",
       "    }\n",
       "\n",
       "    .dataframe thead tr:last-of-type th {\n",
       "        text-align: right;\n",
       "    }\n",
       "</style>\n",
       "<table border=\"1\" class=\"dataframe\">\n",
       "  <thead>\n",
       "    <tr>\n",
       "      <th></th>\n",
       "      <th colspan=\"5\" halign=\"left\">RMSE</th>\n",
       "      <th>Mean</th>\n",
       "    </tr>\n",
       "    <tr>\n",
       "      <th>COMPANY</th>\n",
       "      <th>AAPL</th>\n",
       "      <th>AMZN</th>\n",
       "      <th>FB</th>\n",
       "      <th>GOOG</th>\n",
       "      <th>MSFT</th>\n",
       "      <th></th>\n",
       "    </tr>\n",
       "    <tr>\n",
       "      <th>ALGORITHM</th>\n",
       "      <th></th>\n",
       "      <th></th>\n",
       "      <th></th>\n",
       "      <th></th>\n",
       "      <th></th>\n",
       "      <th></th>\n",
       "    </tr>\n",
       "  </thead>\n",
       "  <tbody>\n",
       "    <tr>\n",
       "      <th>ARIMA</th>\n",
       "      <td>0.642592</td>\n",
       "      <td>22.110443</td>\n",
       "      <td>2.587796</td>\n",
       "      <td>13.519255</td>\n",
       "      <td>1.259657</td>\n",
       "      <td>8.023949</td>\n",
       "    </tr>\n",
       "    <tr>\n",
       "      <th>CNN</th>\n",
       "      <td>0.574236</td>\n",
       "      <td>20.273350</td>\n",
       "      <td>2.535432</td>\n",
       "      <td>11.928661</td>\n",
       "      <td>1.112125</td>\n",
       "      <td>7.284761</td>\n",
       "    </tr>\n",
       "    <tr>\n",
       "      <th>CNN-LSTM</th>\n",
       "      <td>0.574244</td>\n",
       "      <td>20.413176</td>\n",
       "      <td>2.625987</td>\n",
       "      <td>12.513533</td>\n",
       "      <td>1.125688</td>\n",
       "      <td>7.450526</td>\n",
       "    </tr>\n",
       "    <tr>\n",
       "      <th>LSTM</th>\n",
       "      <td>0.653575</td>\n",
       "      <td>24.480369</td>\n",
       "      <td>2.918704</td>\n",
       "      <td>14.472943</td>\n",
       "      <td>1.302035</td>\n",
       "      <td>8.765525</td>\n",
       "    </tr>\n",
       "  </tbody>\n",
       "</table>\n",
       "</div>"
      ],
      "text/plain": [
       "               RMSE                                                Mean\n",
       "COMPANY        AAPL       AMZN        FB       GOOG      MSFT          \n",
       "ALGORITHM                                                              \n",
       "ARIMA      0.642592  22.110443  2.587796  13.519255  1.259657  8.023949\n",
       "CNN        0.574236  20.273350  2.535432  11.928661  1.112125  7.284761\n",
       "CNN-LSTM   0.574244  20.413176  2.625987  12.513533  1.125688  7.450526\n",
       "LSTM       0.653575  24.480369  2.918704  14.472943  1.302035  8.765525"
      ]
     },
     "execution_count": 17,
     "metadata": {},
     "output_type": "execute_result"
    }
   ],
   "source": [
    "grp = res[res[\"TYPE\"] == \"RMSE\"].groupby([\"ALGORITHM\", \"COMPANY\"]).mean()\n",
    "grp.rename(columns={\"ERROR\": \"RMSE\"}, inplace=True)\n",
    "grp[\"STD\"] = res[res[\"TYPE\"] == \"RMSE\"].groupby([\"ALGORITHM\", \"COMPANY\"]).std()[\"ERROR\"]\n",
    "#grp[\"STD_MAX\"] = grp[\"RMSE\"] + grp[\"STD\"]\n",
    "#grp[\"STD_MIN\"] = grp[\"RMSE\"] - grp[\"STD\"]\n",
    "grp.reset_index(inplace=True)\n",
    "grp = grp[[\"COMPANY\", \"ALGORITHM\", \"RMSE\"]]\n",
    "outt3 = grp.pivot(index=\"ALGORITHM\", columns=\"COMPANY\").round(10)\n",
    "outt3[\"Mean\"] = outt3.mean(axis=1)\n",
    "outt3.to_latex(\"res2.tex\")\n",
    "outt3"
   ]
  },
  {
   "cell_type": "code",
   "execution_count": 18,
   "id": "e8877eb6",
   "metadata": {},
   "outputs": [
    {
     "data": {
      "text/html": [
       "<div>\n",
       "<style scoped>\n",
       "    .dataframe tbody tr th:only-of-type {\n",
       "        vertical-align: middle;\n",
       "    }\n",
       "\n",
       "    .dataframe tbody tr th {\n",
       "        vertical-align: top;\n",
       "    }\n",
       "\n",
       "    .dataframe thead th {\n",
       "        text-align: right;\n",
       "    }\n",
       "</style>\n",
       "<table border=\"1\" class=\"dataframe\">\n",
       "  <thead>\n",
       "    <tr style=\"text-align: right;\">\n",
       "      <th></th>\n",
       "      <th>COMPANY</th>\n",
       "      <th>RMSE</th>\n",
       "      <th>STD</th>\n",
       "      <th>STD_MAX</th>\n",
       "      <th>STD_MIN</th>\n",
       "    </tr>\n",
       "    <tr>\n",
       "      <th>ALGORITHM</th>\n",
       "      <th></th>\n",
       "      <th></th>\n",
       "      <th></th>\n",
       "      <th></th>\n",
       "      <th></th>\n",
       "    </tr>\n",
       "  </thead>\n",
       "  <tbody>\n",
       "    <tr>\n",
       "      <th>ARIMA</th>\n",
       "      <td>AAPL</td>\n",
       "      <td>0.642592</td>\n",
       "      <td>0.366267</td>\n",
       "      <td>1.008859</td>\n",
       "      <td>0.276325</td>\n",
       "    </tr>\n",
       "    <tr>\n",
       "      <th>ARIMA</th>\n",
       "      <td>AMZN</td>\n",
       "      <td>22.110443</td>\n",
       "      <td>12.607098</td>\n",
       "      <td>34.717541</td>\n",
       "      <td>9.503344</td>\n",
       "    </tr>\n",
       "    <tr>\n",
       "      <th>ARIMA</th>\n",
       "      <td>FB</td>\n",
       "      <td>2.587796</td>\n",
       "      <td>0.999580</td>\n",
       "      <td>3.587376</td>\n",
       "      <td>1.588216</td>\n",
       "    </tr>\n",
       "    <tr>\n",
       "      <th>ARIMA</th>\n",
       "      <td>GOOG</td>\n",
       "      <td>13.519255</td>\n",
       "      <td>5.530287</td>\n",
       "      <td>19.049543</td>\n",
       "      <td>7.988968</td>\n",
       "    </tr>\n",
       "    <tr>\n",
       "      <th>ARIMA</th>\n",
       "      <td>MSFT</td>\n",
       "      <td>1.259657</td>\n",
       "      <td>0.832960</td>\n",
       "      <td>2.092616</td>\n",
       "      <td>0.426697</td>\n",
       "    </tr>\n",
       "    <tr>\n",
       "      <th>CNN</th>\n",
       "      <td>AAPL</td>\n",
       "      <td>0.574236</td>\n",
       "      <td>0.357491</td>\n",
       "      <td>0.931727</td>\n",
       "      <td>0.216746</td>\n",
       "    </tr>\n",
       "    <tr>\n",
       "      <th>CNN</th>\n",
       "      <td>AMZN</td>\n",
       "      <td>20.273350</td>\n",
       "      <td>11.014702</td>\n",
       "      <td>31.288052</td>\n",
       "      <td>9.258648</td>\n",
       "    </tr>\n",
       "    <tr>\n",
       "      <th>CNN</th>\n",
       "      <td>FB</td>\n",
       "      <td>2.535432</td>\n",
       "      <td>1.134188</td>\n",
       "      <td>3.669620</td>\n",
       "      <td>1.401244</td>\n",
       "    </tr>\n",
       "    <tr>\n",
       "      <th>CNN</th>\n",
       "      <td>GOOG</td>\n",
       "      <td>11.928661</td>\n",
       "      <td>5.142227</td>\n",
       "      <td>17.070888</td>\n",
       "      <td>6.786435</td>\n",
       "    </tr>\n",
       "    <tr>\n",
       "      <th>CNN</th>\n",
       "      <td>MSFT</td>\n",
       "      <td>1.112125</td>\n",
       "      <td>0.785898</td>\n",
       "      <td>1.898023</td>\n",
       "      <td>0.326227</td>\n",
       "    </tr>\n",
       "    <tr>\n",
       "      <th>CNN-LSTM</th>\n",
       "      <td>AAPL</td>\n",
       "      <td>0.574244</td>\n",
       "      <td>0.338222</td>\n",
       "      <td>0.912466</td>\n",
       "      <td>0.236022</td>\n",
       "    </tr>\n",
       "    <tr>\n",
       "      <th>CNN-LSTM</th>\n",
       "      <td>AMZN</td>\n",
       "      <td>20.413176</td>\n",
       "      <td>11.002759</td>\n",
       "      <td>31.415935</td>\n",
       "      <td>9.410417</td>\n",
       "    </tr>\n",
       "    <tr>\n",
       "      <th>CNN-LSTM</th>\n",
       "      <td>FB</td>\n",
       "      <td>2.625987</td>\n",
       "      <td>1.271685</td>\n",
       "      <td>3.897672</td>\n",
       "      <td>1.354302</td>\n",
       "    </tr>\n",
       "    <tr>\n",
       "      <th>CNN-LSTM</th>\n",
       "      <td>GOOG</td>\n",
       "      <td>12.513533</td>\n",
       "      <td>5.338543</td>\n",
       "      <td>17.852076</td>\n",
       "      <td>7.174990</td>\n",
       "    </tr>\n",
       "    <tr>\n",
       "      <th>CNN-LSTM</th>\n",
       "      <td>MSFT</td>\n",
       "      <td>1.125688</td>\n",
       "      <td>0.748216</td>\n",
       "      <td>1.873905</td>\n",
       "      <td>0.377472</td>\n",
       "    </tr>\n",
       "    <tr>\n",
       "      <th>LSTM</th>\n",
       "      <td>AAPL</td>\n",
       "      <td>0.653575</td>\n",
       "      <td>0.332027</td>\n",
       "      <td>0.985602</td>\n",
       "      <td>0.321548</td>\n",
       "    </tr>\n",
       "    <tr>\n",
       "      <th>LSTM</th>\n",
       "      <td>AMZN</td>\n",
       "      <td>24.480369</td>\n",
       "      <td>13.520284</td>\n",
       "      <td>38.000654</td>\n",
       "      <td>10.960085</td>\n",
       "    </tr>\n",
       "    <tr>\n",
       "      <th>LSTM</th>\n",
       "      <td>FB</td>\n",
       "      <td>2.918704</td>\n",
       "      <td>1.281285</td>\n",
       "      <td>4.199990</td>\n",
       "      <td>1.637419</td>\n",
       "    </tr>\n",
       "    <tr>\n",
       "      <th>LSTM</th>\n",
       "      <td>GOOG</td>\n",
       "      <td>14.472943</td>\n",
       "      <td>5.582417</td>\n",
       "      <td>20.055360</td>\n",
       "      <td>8.890526</td>\n",
       "    </tr>\n",
       "    <tr>\n",
       "      <th>LSTM</th>\n",
       "      <td>MSFT</td>\n",
       "      <td>1.302035</td>\n",
       "      <td>0.674979</td>\n",
       "      <td>1.977014</td>\n",
       "      <td>0.627056</td>\n",
       "    </tr>\n",
       "  </tbody>\n",
       "</table>\n",
       "</div>"
      ],
      "text/plain": [
       "          COMPANY       RMSE        STD    STD_MAX    STD_MIN\n",
       "ALGORITHM                                                    \n",
       "ARIMA        AAPL   0.642592   0.366267   1.008859   0.276325\n",
       "ARIMA        AMZN  22.110443  12.607098  34.717541   9.503344\n",
       "ARIMA          FB   2.587796   0.999580   3.587376   1.588216\n",
       "ARIMA        GOOG  13.519255   5.530287  19.049543   7.988968\n",
       "ARIMA        MSFT   1.259657   0.832960   2.092616   0.426697\n",
       "CNN          AAPL   0.574236   0.357491   0.931727   0.216746\n",
       "CNN          AMZN  20.273350  11.014702  31.288052   9.258648\n",
       "CNN            FB   2.535432   1.134188   3.669620   1.401244\n",
       "CNN          GOOG  11.928661   5.142227  17.070888   6.786435\n",
       "CNN          MSFT   1.112125   0.785898   1.898023   0.326227\n",
       "CNN-LSTM     AAPL   0.574244   0.338222   0.912466   0.236022\n",
       "CNN-LSTM     AMZN  20.413176  11.002759  31.415935   9.410417\n",
       "CNN-LSTM       FB   2.625987   1.271685   3.897672   1.354302\n",
       "CNN-LSTM     GOOG  12.513533   5.338543  17.852076   7.174990\n",
       "CNN-LSTM     MSFT   1.125688   0.748216   1.873905   0.377472\n",
       "LSTM         AAPL   0.653575   0.332027   0.985602   0.321548\n",
       "LSTM         AMZN  24.480369  13.520284  38.000654  10.960085\n",
       "LSTM           FB   2.918704   1.281285   4.199990   1.637419\n",
       "LSTM         GOOG  14.472943   5.582417  20.055360   8.890526\n",
       "LSTM         MSFT   1.302035   0.674979   1.977014   0.627056"
      ]
     },
     "execution_count": 18,
     "metadata": {},
     "output_type": "execute_result"
    }
   ],
   "source": [
    "grp = res[res[\"TYPE\"] == \"RMSE\"].groupby([\"ALGORITHM\", \"COMPANY\"]).mean()\n",
    "grp.rename(columns={\"ERROR\": \"RMSE\"}, inplace=True)\n",
    "grp[\"STD\"] = res[res[\"TYPE\"] == \"RMSE\"].groupby([\"ALGORITHM\", \"COMPANY\"]).std()[\"ERROR\"]\n",
    "grp[\"STD_MAX\"] = grp[\"RMSE\"] + grp[\"STD\"]\n",
    "grp[\"STD_MIN\"] = grp[\"RMSE\"] - grp[\"STD\"]\n",
    "grp.reset_index(inplace=True)\n",
    "#grp = grp[[\"COMPANY\", \"ALGORITHM\", \"RMSE\"]]\n",
    "grp = grp.set_index(\"ALGORITHM\")\n",
    "grp"
   ]
  },
  {
   "cell_type": "code",
   "execution_count": 19,
   "id": "ed5f5b5e",
   "metadata": {},
   "outputs": [],
   "source": [
    "grp[\"dRMSE\"] = list(grp.loc[\"ARIMA\", \"RMSE\"]) * 4 - grp[\"RMSE\"]"
   ]
  },
  {
   "cell_type": "code",
   "execution_count": 20,
   "id": "2254a93f",
   "metadata": {},
   "outputs": [],
   "source": [
    "import numpy as np\n",
    "grp[\"rRMSE\"] = grp[\"dRMSE\"] / np.array(list(grp.loc[\"ARIMA\", \"STD\"]) * 4)\n",
    "grp[\"rSTD\"] = grp[\"dRMSE\"] / np.array(list(grp.loc[\"ARIMA\", \"STD\"]) * 4)\n",
    "grp = grp.reset_index()\n",
    "#grp = grp[grp[\"ALGORITHM\"] != \"ARIMA\"]"
   ]
  },
  {
   "cell_type": "code",
   "execution_count": 21,
   "id": "c344b712",
   "metadata": {},
   "outputs": [
    {
     "data": {
      "text/html": [
       "<div>\n",
       "<style scoped>\n",
       "    .dataframe tbody tr th:only-of-type {\n",
       "        vertical-align: middle;\n",
       "    }\n",
       "\n",
       "    .dataframe tbody tr th {\n",
       "        vertical-align: top;\n",
       "    }\n",
       "\n",
       "    .dataframe thead th {\n",
       "        text-align: right;\n",
       "    }\n",
       "</style>\n",
       "<table border=\"1\" class=\"dataframe\">\n",
       "  <thead>\n",
       "    <tr style=\"text-align: right;\">\n",
       "      <th></th>\n",
       "      <th>ALGORITHM</th>\n",
       "      <th>COMPANY</th>\n",
       "      <th>RMSE</th>\n",
       "      <th>STD</th>\n",
       "      <th>STD_MAX</th>\n",
       "      <th>STD_MIN</th>\n",
       "      <th>dRMSE</th>\n",
       "      <th>rRMSE</th>\n",
       "      <th>rSTD</th>\n",
       "    </tr>\n",
       "  </thead>\n",
       "  <tbody>\n",
       "    <tr>\n",
       "      <th>0</th>\n",
       "      <td>ARIMA</td>\n",
       "      <td>AAPL</td>\n",
       "      <td>0.642592</td>\n",
       "      <td>0.366267</td>\n",
       "      <td>1.008859</td>\n",
       "      <td>0.276325</td>\n",
       "      <td>0.000000</td>\n",
       "      <td>0.000000</td>\n",
       "      <td>0.000000</td>\n",
       "    </tr>\n",
       "    <tr>\n",
       "      <th>1</th>\n",
       "      <td>ARIMA</td>\n",
       "      <td>AMZN</td>\n",
       "      <td>22.110443</td>\n",
       "      <td>12.607098</td>\n",
       "      <td>34.717541</td>\n",
       "      <td>9.503344</td>\n",
       "      <td>0.000000</td>\n",
       "      <td>0.000000</td>\n",
       "      <td>0.000000</td>\n",
       "    </tr>\n",
       "    <tr>\n",
       "      <th>2</th>\n",
       "      <td>ARIMA</td>\n",
       "      <td>FB</td>\n",
       "      <td>2.587796</td>\n",
       "      <td>0.999580</td>\n",
       "      <td>3.587376</td>\n",
       "      <td>1.588216</td>\n",
       "      <td>0.000000</td>\n",
       "      <td>0.000000</td>\n",
       "      <td>0.000000</td>\n",
       "    </tr>\n",
       "    <tr>\n",
       "      <th>3</th>\n",
       "      <td>ARIMA</td>\n",
       "      <td>GOOG</td>\n",
       "      <td>13.519255</td>\n",
       "      <td>5.530287</td>\n",
       "      <td>19.049543</td>\n",
       "      <td>7.988968</td>\n",
       "      <td>0.000000</td>\n",
       "      <td>0.000000</td>\n",
       "      <td>0.000000</td>\n",
       "    </tr>\n",
       "    <tr>\n",
       "      <th>4</th>\n",
       "      <td>ARIMA</td>\n",
       "      <td>MSFT</td>\n",
       "      <td>1.259657</td>\n",
       "      <td>0.832960</td>\n",
       "      <td>2.092616</td>\n",
       "      <td>0.426697</td>\n",
       "      <td>0.000000</td>\n",
       "      <td>0.000000</td>\n",
       "      <td>0.000000</td>\n",
       "    </tr>\n",
       "    <tr>\n",
       "      <th>5</th>\n",
       "      <td>CNN</td>\n",
       "      <td>AAPL</td>\n",
       "      <td>0.574236</td>\n",
       "      <td>0.357491</td>\n",
       "      <td>0.931727</td>\n",
       "      <td>0.216746</td>\n",
       "      <td>0.068356</td>\n",
       "      <td>0.186629</td>\n",
       "      <td>0.186629</td>\n",
       "    </tr>\n",
       "    <tr>\n",
       "      <th>6</th>\n",
       "      <td>CNN</td>\n",
       "      <td>AMZN</td>\n",
       "      <td>20.273350</td>\n",
       "      <td>11.014702</td>\n",
       "      <td>31.288052</td>\n",
       "      <td>9.258648</td>\n",
       "      <td>1.837093</td>\n",
       "      <td>0.145719</td>\n",
       "      <td>0.145719</td>\n",
       "    </tr>\n",
       "    <tr>\n",
       "      <th>7</th>\n",
       "      <td>CNN</td>\n",
       "      <td>FB</td>\n",
       "      <td>2.535432</td>\n",
       "      <td>1.134188</td>\n",
       "      <td>3.669620</td>\n",
       "      <td>1.401244</td>\n",
       "      <td>0.052364</td>\n",
       "      <td>0.052386</td>\n",
       "      <td>0.052386</td>\n",
       "    </tr>\n",
       "    <tr>\n",
       "      <th>8</th>\n",
       "      <td>CNN</td>\n",
       "      <td>GOOG</td>\n",
       "      <td>11.928661</td>\n",
       "      <td>5.142227</td>\n",
       "      <td>17.070888</td>\n",
       "      <td>6.786435</td>\n",
       "      <td>1.590594</td>\n",
       "      <td>0.287615</td>\n",
       "      <td>0.287615</td>\n",
       "    </tr>\n",
       "    <tr>\n",
       "      <th>9</th>\n",
       "      <td>CNN</td>\n",
       "      <td>MSFT</td>\n",
       "      <td>1.112125</td>\n",
       "      <td>0.785898</td>\n",
       "      <td>1.898023</td>\n",
       "      <td>0.326227</td>\n",
       "      <td>0.147532</td>\n",
       "      <td>0.177118</td>\n",
       "      <td>0.177118</td>\n",
       "    </tr>\n",
       "    <tr>\n",
       "      <th>10</th>\n",
       "      <td>CNN-LSTM</td>\n",
       "      <td>AAPL</td>\n",
       "      <td>0.574244</td>\n",
       "      <td>0.338222</td>\n",
       "      <td>0.912466</td>\n",
       "      <td>0.236022</td>\n",
       "      <td>0.068348</td>\n",
       "      <td>0.186608</td>\n",
       "      <td>0.186608</td>\n",
       "    </tr>\n",
       "    <tr>\n",
       "      <th>11</th>\n",
       "      <td>CNN-LSTM</td>\n",
       "      <td>AMZN</td>\n",
       "      <td>20.413176</td>\n",
       "      <td>11.002759</td>\n",
       "      <td>31.415935</td>\n",
       "      <td>9.410417</td>\n",
       "      <td>1.697267</td>\n",
       "      <td>0.134628</td>\n",
       "      <td>0.134628</td>\n",
       "    </tr>\n",
       "    <tr>\n",
       "      <th>12</th>\n",
       "      <td>CNN-LSTM</td>\n",
       "      <td>FB</td>\n",
       "      <td>2.625987</td>\n",
       "      <td>1.271685</td>\n",
       "      <td>3.897672</td>\n",
       "      <td>1.354302</td>\n",
       "      <td>-0.038191</td>\n",
       "      <td>-0.038207</td>\n",
       "      <td>-0.038207</td>\n",
       "    </tr>\n",
       "    <tr>\n",
       "      <th>13</th>\n",
       "      <td>CNN-LSTM</td>\n",
       "      <td>GOOG</td>\n",
       "      <td>12.513533</td>\n",
       "      <td>5.338543</td>\n",
       "      <td>17.852076</td>\n",
       "      <td>7.174990</td>\n",
       "      <td>1.005722</td>\n",
       "      <td>0.181857</td>\n",
       "      <td>0.181857</td>\n",
       "    </tr>\n",
       "    <tr>\n",
       "      <th>14</th>\n",
       "      <td>CNN-LSTM</td>\n",
       "      <td>MSFT</td>\n",
       "      <td>1.125688</td>\n",
       "      <td>0.748216</td>\n",
       "      <td>1.873905</td>\n",
       "      <td>0.377472</td>\n",
       "      <td>0.133968</td>\n",
       "      <td>0.160834</td>\n",
       "      <td>0.160834</td>\n",
       "    </tr>\n",
       "    <tr>\n",
       "      <th>15</th>\n",
       "      <td>LSTM</td>\n",
       "      <td>AAPL</td>\n",
       "      <td>0.653575</td>\n",
       "      <td>0.332027</td>\n",
       "      <td>0.985602</td>\n",
       "      <td>0.321548</td>\n",
       "      <td>-0.010983</td>\n",
       "      <td>-0.029985</td>\n",
       "      <td>-0.029985</td>\n",
       "    </tr>\n",
       "    <tr>\n",
       "      <th>16</th>\n",
       "      <td>LSTM</td>\n",
       "      <td>AMZN</td>\n",
       "      <td>24.480369</td>\n",
       "      <td>13.520284</td>\n",
       "      <td>38.000654</td>\n",
       "      <td>10.960085</td>\n",
       "      <td>-2.369927</td>\n",
       "      <td>-0.187984</td>\n",
       "      <td>-0.187984</td>\n",
       "    </tr>\n",
       "    <tr>\n",
       "      <th>17</th>\n",
       "      <td>LSTM</td>\n",
       "      <td>FB</td>\n",
       "      <td>2.918704</td>\n",
       "      <td>1.281285</td>\n",
       "      <td>4.199990</td>\n",
       "      <td>1.637419</td>\n",
       "      <td>-0.330908</td>\n",
       "      <td>-0.331047</td>\n",
       "      <td>-0.331047</td>\n",
       "    </tr>\n",
       "    <tr>\n",
       "      <th>18</th>\n",
       "      <td>LSTM</td>\n",
       "      <td>GOOG</td>\n",
       "      <td>14.472943</td>\n",
       "      <td>5.582417</td>\n",
       "      <td>20.055360</td>\n",
       "      <td>8.890526</td>\n",
       "      <td>-0.953688</td>\n",
       "      <td>-0.172448</td>\n",
       "      <td>-0.172448</td>\n",
       "    </tr>\n",
       "    <tr>\n",
       "      <th>19</th>\n",
       "      <td>LSTM</td>\n",
       "      <td>MSFT</td>\n",
       "      <td>1.302035</td>\n",
       "      <td>0.674979</td>\n",
       "      <td>1.977014</td>\n",
       "      <td>0.627056</td>\n",
       "      <td>-0.042379</td>\n",
       "      <td>-0.050877</td>\n",
       "      <td>-0.050877</td>\n",
       "    </tr>\n",
       "  </tbody>\n",
       "</table>\n",
       "</div>"
      ],
      "text/plain": [
       "   ALGORITHM COMPANY       RMSE        STD    STD_MAX    STD_MIN     dRMSE  \\\n",
       "0      ARIMA    AAPL   0.642592   0.366267   1.008859   0.276325  0.000000   \n",
       "1      ARIMA    AMZN  22.110443  12.607098  34.717541   9.503344  0.000000   \n",
       "2      ARIMA      FB   2.587796   0.999580   3.587376   1.588216  0.000000   \n",
       "3      ARIMA    GOOG  13.519255   5.530287  19.049543   7.988968  0.000000   \n",
       "4      ARIMA    MSFT   1.259657   0.832960   2.092616   0.426697  0.000000   \n",
       "5        CNN    AAPL   0.574236   0.357491   0.931727   0.216746  0.068356   \n",
       "6        CNN    AMZN  20.273350  11.014702  31.288052   9.258648  1.837093   \n",
       "7        CNN      FB   2.535432   1.134188   3.669620   1.401244  0.052364   \n",
       "8        CNN    GOOG  11.928661   5.142227  17.070888   6.786435  1.590594   \n",
       "9        CNN    MSFT   1.112125   0.785898   1.898023   0.326227  0.147532   \n",
       "10  CNN-LSTM    AAPL   0.574244   0.338222   0.912466   0.236022  0.068348   \n",
       "11  CNN-LSTM    AMZN  20.413176  11.002759  31.415935   9.410417  1.697267   \n",
       "12  CNN-LSTM      FB   2.625987   1.271685   3.897672   1.354302 -0.038191   \n",
       "13  CNN-LSTM    GOOG  12.513533   5.338543  17.852076   7.174990  1.005722   \n",
       "14  CNN-LSTM    MSFT   1.125688   0.748216   1.873905   0.377472  0.133968   \n",
       "15      LSTM    AAPL   0.653575   0.332027   0.985602   0.321548 -0.010983   \n",
       "16      LSTM    AMZN  24.480369  13.520284  38.000654  10.960085 -2.369927   \n",
       "17      LSTM      FB   2.918704   1.281285   4.199990   1.637419 -0.330908   \n",
       "18      LSTM    GOOG  14.472943   5.582417  20.055360   8.890526 -0.953688   \n",
       "19      LSTM    MSFT   1.302035   0.674979   1.977014   0.627056 -0.042379   \n",
       "\n",
       "       rRMSE      rSTD  \n",
       "0   0.000000  0.000000  \n",
       "1   0.000000  0.000000  \n",
       "2   0.000000  0.000000  \n",
       "3   0.000000  0.000000  \n",
       "4   0.000000  0.000000  \n",
       "5   0.186629  0.186629  \n",
       "6   0.145719  0.145719  \n",
       "7   0.052386  0.052386  \n",
       "8   0.287615  0.287615  \n",
       "9   0.177118  0.177118  \n",
       "10  0.186608  0.186608  \n",
       "11  0.134628  0.134628  \n",
       "12 -0.038207 -0.038207  \n",
       "13  0.181857  0.181857  \n",
       "14  0.160834  0.160834  \n",
       "15 -0.029985 -0.029985  \n",
       "16 -0.187984 -0.187984  \n",
       "17 -0.331047 -0.331047  \n",
       "18 -0.172448 -0.172448  \n",
       "19 -0.050877 -0.050877  "
      ]
     },
     "execution_count": 21,
     "metadata": {},
     "output_type": "execute_result"
    }
   ],
   "source": [
    "grp"
   ]
  },
  {
   "cell_type": "code",
   "execution_count": 24,
   "id": "bb5e6738",
   "metadata": {},
   "outputs": [
    {
     "data": {
      "image/png": "[encoded data removed]",
      "text/plain": [
       "<Figure size 640x480 with 1 Axes>"
      ]
     },
     "metadata": {},
     "output_type": "display_data"
    },
    {
     "name": "stdout",
     "output_type": "stream",
     "text": [
      "\n"
     ]
    },
    {
     "name": "stderr",
     "output_type": "stream",
     "text": [
      "D:\\Anaconda\\envs\\su\\lib\\site-packages\\plotnine\\ggplot.py:719: PlotnineWarning: Saving 6.4 x 4.8 in image.\n",
      "D:\\Anaconda\\envs\\su\\lib\\site-packages\\plotnine\\ggplot.py:722: PlotnineWarning: Filename: fig2.png\n"
     ]
    }
   ],
   "source": [
    "from plotnine import *\n",
    "\n",
    "grpcol = [\"red\", \"green\", \"blue\"]\n",
    "\n",
    "#grp.rename(columns={\"MEAN\": \"MAPE\"}, inplace=True)\n",
    "g = (\n",
    "    ggplot(grp[grp[\"ALGORITHM\"] != \"ARIMA\"], aes(x=\"COMPANY\", y=\"rRMSE\", fill=\"ALGORITHM\")) +\n",
    "    geom_bar(stat=\"identity\", position=position_dodge()) +\n",
    "    #geom_errorbar(aes(ymin=\"STD_MIN\", ymax=\"STD_MAX\"), position=position_dodge(0.9))\n",
    "    scale_fill_manual(values=grpcol)\n",
    ")\n",
    "print(g)\n",
    "ggsave(plot=g, filename='fig2.png', dpi=80)"
   ]
  },
  {
   "cell_type": "markdown",
   "id": "9348efba",
   "metadata": {},
   "source": [
    "## Explainability"
   ]
  },
  {
   "cell_type": "code",
   "execution_count": 25,
   "id": "41efef63",
   "metadata": {},
   "outputs": [],
   "source": [
    "import shap\n",
    "from sklearn.preprocessing import StandardScaler\n",
    "from sklearn.neural_network import MLPRegressor\n",
    "from sklearn.pipeline import make_pipeline\n",
    "\n",
    "from sklearn.datasets import load_diabetes\n",
    "from sklearn.model_selection import train_test_split"
   ]
  },
  {
   "cell_type": "code",
   "execution_count": 27,
   "id": "ac971285",
   "metadata": {},
   "outputs": [
    {
     "name": "stdout",
     "output_type": "stream",
     "text": [
      " Volume in drive E is New Volume\n",
      " Volume Serial Number is 64E0-7FA7\n",
      "\n",
      " Directory of E:\\Documents\\FRI\\predmeti\\letnik_01\\zimni semester\\Strojno ucenje\\seminarska naloga\n",
      "\n",
      "01-Jan-22  11:43    <DIR>          .\n",
      "01-Jan-22  11:43    <DIR>          ..\n",
      "28-Nov-21  11:11                16 .gitignore\n",
      "31-Dec-21  16:29    <DIR>          .ipynb_checkpoints\n",
      "28-Dec-21  11:13             5,289 arima_results.csv\n",
      "28-Dec-21  15:22    <DIR>          articles\n",
      "28-Dec-21  12:11             5,556 cnn_lstm_results.csv\n",
      "28-Dec-21  12:11             5,090 cnn_results.csv\n",
      "28-Dec-21  16:02    <DIR>          data\n",
      "28-Nov-21  11:10    <DIR>          docs\n",
      "30-Dec-21  12:06             7,692 environment.yml\n",
      "01-Jan-22  11:43            11,400 fig2.png\n",
      "29-Dec-21  10:09    <DIR>          images\n",
      "27-Nov-21  19:18    <DIR>          instructions\n",
      "28-Dec-21  12:11             5,191 lstm_results.csv\n",
      "31-Dec-21  13:50    <DIR>          models\n",
      "28-Nov-21  20:46    <DIR>          prepreparation\n",
      "28-Dec-21  13:23    <DIR>          preprocessing\n",
      "28-Nov-21  11:29             1,459 README.md\n",
      "29-Dec-21  11:09    <DIR>          report\n",
      "01-Jan-22  11:43           298,014 Report.ipynb\n",
      "01-Jan-22  11:41               302 res1.tex\n",
      "01-Jan-22  11:42               637 res2.tex\n",
      "01-Jan-22  11:41            14,949 test.png\n",
      "29-Nov-21  04:37    <DIR>          visualization\n",
      "              12 File(s)        355,595 bytes\n",
      "              13 Dir(s)  135,867,117,568 bytes free\n"
     ]
    }
   ],
   "source": [
    "!dir"
   ]
  },
  {
   "cell_type": "code",
   "execution_count": 28,
   "id": "fb362f34",
   "metadata": {},
   "outputs": [
    {
     "name": "stdout",
     "output_type": "stream",
     "text": [
      "E:\\Documents\\FRI\\predmeti\\letnik_01\\zimni semester\\Strojno učenje\\seminarska naloga\\models\n"
     ]
    }
   ],
   "source": [
    "%cd models"
   ]
  },
  {
   "cell_type": "markdown",
   "id": "6c21722b",
   "metadata": {},
   "source": [
    "### CNN"
   ]
  },
  {
   "cell_type": "code",
   "execution_count": 29,
   "id": "35ffd916",
   "metadata": {},
   "outputs": [
    {
     "name": "stdout",
     "output_type": "stream",
     "text": [
      "[[-1.34890897 -1.36607669 -1.37261057 -1.37000566 -1.3708118   2.73672922]\n",
      " [-1.37052603 -1.35085569 -1.34980429 -1.33508491 -1.34028154  1.75135469]\n",
      " [-1.33523145 -1.31523597 -1.31862912 -1.3064883  -1.31528112  2.30128094]\n",
      " ...\n",
      " [ 1.01314975  1.04991171  1.04485633  1.03796236  1.12273794 -0.54726113]\n",
      " [ 1.05524364  1.04664138  1.06345833  1.06325936  1.14686887 -0.92076994]\n",
      " [ 1.00792228  1.01285155  1.01681461  0.974445    1.06215038 -0.62119354]]\n"
     ]
    }
   ],
   "source": [
    "from a2d_cnn import cnn_build\n",
    "\n",
    "WINDOW_SIZE = 18\n",
    "model = cnn_build(WINDOW_SIZE)\n",
    "model.load_weights('checkpoint/2d_cnn_AAPL_checkpoint/')\n",
    "\n",
    "import numpy as np\n",
    "import visualization.view_time_series as vts\n",
    "from sklearn.preprocessing import StandardScaler\n",
    "stk_train = vts.stock_get(\"AAPL\", \"2014-06-01\", \"2019-06-01\")\n",
    "stk_test = vts.stock_get(\"AAPL\", \"2019-06-01\", \"2020-06-01\")\n",
    "\n",
    "apple_train = stk_train.iloc[:,1:7].values\n",
    "num_instances, num_features = stk_train.shape\n",
    "apple_test = stk_test.iloc[:, 1:7].values\n",
    "\n",
    "feature_set = []\n",
    "labels = []\n",
    "test_feature_set = []\n",
    "test_labels = []\n",
    "\n",
    "scaler = StandardScaler()\n",
    "#scaler = MinMaxScaler(feature_range=(-1,1))\n",
    "\n",
    "apple_train_scaled = scaler.fit_transform(apple_train)\n",
    "print(apple_train_scaled)\n",
    "apple_test_scaled = scaler.transform(apple_test)\n",
    "\n",
    "for i in range(WINDOW_SIZE, apple_train_scaled.shape[0]):\n",
    "    feature_set.append(apple_train_scaled[i-WINDOW_SIZE:i, :])\n",
    "    labels.append(apple_train_scaled[i,0])\n",
    "for i in range(WINDOW_SIZE, apple_test_scaled.shape[0]):\n",
    "    test_feature_set.append(apple_test_scaled[i-WINDOW_SIZE:i, :])\n",
    "    test_labels.append(apple_test_scaled[i,0])\n",
    "\n",
    "feature_set, labels = np.array(feature_set), np.array(labels)\n",
    "feature_set = np.reshape(feature_set, (feature_set.shape[0], feature_set.shape[1], feature_set.shape[2], 1))\n",
    "    \n",
    "test_feature_set, test_labels = np.array(test_feature_set), np.array(test_labels)\n",
    "test_feature_set = np.reshape(test_feature_set, (test_feature_set.shape[0], \\\n",
    "                                                            test_feature_set.shape[1], feature_set.shape[2], 1))"
   ]
  },
  {
   "cell_type": "code",
   "execution_count": 30,
   "id": "0d48aea4",
   "metadata": {},
   "outputs": [],
   "source": [
    "from xplique.attributions import (Saliency,\n",
    "                             IntegratedGradients,\n",
    "                             KernelShap,\n",
    "                             Lime,\n",
    "                             Occlusion,\n",
    "                             SmoothGrad,\n",
    "                             VarGrad,\n",
    "                             SquareGrad,\n",
    "                             GuidedBackprop,\n",
    "                             DeconvNet,\n",
    "                             GradientInput\n",
    ")"
   ]
  },
  {
   "cell_type": "code",
   "execution_count": 31,
   "id": "d1e59068",
   "metadata": {},
   "outputs": [],
   "source": [
    "methods_params = [\n",
    "    (\"Saliency\", Saliency, {})\n",
    "]"
   ]
  },
  {
   "cell_type": "code",
   "execution_count": 32,
   "id": "188c7aef",
   "metadata": {},
   "outputs": [
    {
     "data": {
      "text/plain": [
       "(233, 18, 6, 1)"
      ]
     },
     "execution_count": 32,
     "metadata": {},
     "output_type": "execute_result"
    }
   ],
   "source": [
    "test_feature_set.shape"
   ]
  },
  {
   "cell_type": "code",
   "execution_count": 33,
   "id": "39b2e2df",
   "metadata": {},
   "outputs": [],
   "source": [
    "from xplique.plots import plot_feature_impact, plot_mean_feature_impact, summary_plot_tabular\n",
    "# get the different explanations\n",
    "explanations = []\n",
    "\n",
    "for name, Cls, params in methods_params:\n",
    "    \n",
    "    explainer   = Cls(model, **params)\n",
    "    explanation = explainer(test_feature_set, test_labels)\n",
    "\n",
    "    explanations.append((name, explanation))"
   ]
  },
  {
   "cell_type": "code",
   "execution_count": 34,
   "id": "182abe3e",
   "metadata": {},
   "outputs": [],
   "source": [
    "salience_cnn =np.array(explanations[0][1])"
   ]
  },
  {
   "cell_type": "code",
   "execution_count": 35,
   "id": "db87022d",
   "metadata": {},
   "outputs": [],
   "source": [
    "cnn_features = salience_cnn.mean(axis=(0,1))"
   ]
  },
  {
   "cell_type": "code",
   "execution_count": 36,
   "id": "c766a935",
   "metadata": {},
   "outputs": [
    {
     "data": {
      "text/plain": [
       "(233, 18, 6)"
      ]
     },
     "execution_count": 36,
     "metadata": {},
     "output_type": "execute_result"
    }
   ],
   "source": [
    "salience_cnn.shape"
   ]
  },
  {
   "cell_type": "code",
   "execution_count": 37,
   "id": "96d6c54b",
   "metadata": {},
   "outputs": [],
   "source": [
    "cnn_lags = salience_cnn.mean(axis=(0,2))"
   ]
  },
  {
   "cell_type": "code",
   "execution_count": 38,
   "id": "41bfe9a7",
   "metadata": {},
   "outputs": [
    {
     "data": {
      "text/plain": [
       "(233, 18, 6, 1)"
      ]
     },
     "execution_count": 38,
     "metadata": {},
     "output_type": "execute_result"
    }
   ],
   "source": [
    "test_feature_set.shape"
   ]
  },
  {
   "cell_type": "code",
   "execution_count": 39,
   "id": "dad80de7",
   "metadata": {},
   "outputs": [],
   "source": [
    "from xplique.plots import plot_feature_impact, plot_mean_feature_impact, summary_plot_tabular\n",
    "# get the different explanations\n",
    "\n",
    "methods_params = [\n",
    "    (\"LIME\", Lime, {})\n",
    "]\n",
    "\n",
    "explanations = []\n",
    "\n",
    "qc_reshape = test_feature_set.reshape((233,18*6))\n",
    "\n",
    "def predict(qc):\n",
    "    global model\n",
    "    return model.predict(qc.reshape((qc.shape[0], 18, 6, 1)))\n",
    "for name, Cls, params in methods_params:\n",
    "    \n",
    "    explainer   = Cls(predict, **params)\n",
    "    explanation = explainer(qc_reshape, test_labels)\n",
    "\n",
    "    explanations.append((name, explanation))"
   ]
  },
  {
   "cell_type": "code",
   "execution_count": 40,
   "id": "58f6dea5",
   "metadata": {},
   "outputs": [],
   "source": [
    "lime_cnn =np.array(explanations[0][1]).reshape(test_feature_set.shape)"
   ]
  },
  {
   "cell_type": "code",
   "execution_count": 41,
   "id": "88bbcdd7",
   "metadata": {},
   "outputs": [
    {
     "data": {
      "text/plain": [
       "(233, 18, 6, 1)"
      ]
     },
     "execution_count": 41,
     "metadata": {},
     "output_type": "execute_result"
    }
   ],
   "source": [
    "lime_cnn.shape"
   ]
  },
  {
   "cell_type": "code",
   "execution_count": 42,
   "id": "4acc6271",
   "metadata": {},
   "outputs": [
    {
     "data": {
      "text/plain": [
       "array([  0.2638577,   1.0039288,   7.7495627,   7.7449307,   4.6021295,\n",
       "         1.533086 ,   2.8670228,   3.4450727,   3.441393 ,   5.1431894,\n",
       "         4.4856486,   4.4006724,  12.063681 ,   8.0990505,  13.01595  ,\n",
       "        14.125866 , 102.30183  ,  96.76606  ], dtype=float32)"
      ]
     },
     "execution_count": 42,
     "metadata": {},
     "output_type": "execute_result"
    }
   ],
   "source": [
    "cnn_lags = lime_cnn.mean(axis=(0,2,3))\n",
    "cnn_lags"
   ]
  },
  {
   "cell_type": "code",
   "execution_count": 43,
   "id": "a7a2ab0c",
   "metadata": {},
   "outputs": [
    {
     "data": {
      "text/plain": [
       "array([-29.44034  ,  31.969585 ,  38.21729  ,   7.6638684,  47.9624   ,\n",
       "         1.311548 ], dtype=float32)"
      ]
     },
     "execution_count": 43,
     "metadata": {},
     "output_type": "execute_result"
    }
   ],
   "source": [
    "cnn_features = lime_cnn.mean(axis=(0,1,3))\n",
    "cnn_features"
   ]
  },
  {
   "cell_type": "markdown",
   "id": "48a7e353",
   "metadata": {},
   "source": [
    "### LSTM"
   ]
  },
  {
   "cell_type": "code",
   "execution_count": 44,
   "id": "c1f42bf7",
   "metadata": {},
   "outputs": [
    {
     "name": "stdout",
     "output_type": "stream",
     "text": [
      "[[-0.98885504 -1.         -1.         -1.         -1.         -0.09332714]\n",
      " [-1.         -0.99217582 -0.98833625 -0.98214578 -0.98417202 -0.30816548]\n",
      " [-0.9818034  -0.97386592 -0.97239241 -0.96752496 -0.97121091 -0.18826666]\n",
      " ...\n",
      " [ 0.22893617  0.24191072  0.23635847  0.23114153  0.29274527 -0.80932599]\n",
      " [ 0.25063824  0.24022965  0.24587204  0.24407533  0.30525561 -0.89076102]\n",
      " [ 0.22624108  0.22286038  0.22201717  0.19866649  0.26133452 -0.82544525]]\n",
      "(1229, 30, 6)\n"
     ]
    },
    {
     "data": {
      "text/plain": [
       "<tensorflow.python.training.tracking.util.CheckpointLoadStatus at 0x2395807adc0>"
      ]
     },
     "execution_count": 44,
     "metadata": {},
     "output_type": "execute_result"
    }
   ],
   "source": [
    "from a2d_lstm import lstm_build\n",
    "from sklearn.preprocessing import MinMaxScaler, StandardScaler\n",
    "import visualization.view_time_series as vts\n",
    "import numpy as np\n",
    "\n",
    "WINDOW_SIZE = 30\n",
    "\n",
    "stk_train = vts.stock_get(\"AAPL\", \"2014-06-01\", \"2019-06-01\")\n",
    "stk_test = vts.stock_get(\"AAPL\", \"2019-06-01\", \"2020-06-01\")\n",
    "\n",
    "stk_train = stk_train.iloc[:,1:7].values\n",
    "num_instances, num_features = stk_train.shape\n",
    "stk_test = stk_test.iloc[:, 1:7].values\n",
    "\n",
    "feature_set = []\n",
    "labels = []\n",
    "test_feature_set = []\n",
    "test_labels = []\n",
    "\n",
    "            #scaler = StandardScaler()\n",
    "scaler = MinMaxScaler(feature_range=(-1,1))\n",
    "\n",
    "stk_train_scaled = scaler.fit_transform(stk_train)\n",
    "print(stk_train_scaled)\n",
    "stk_test_scaled = scaler.transform(stk_test)\n",
    "\n",
    "for i in range(WINDOW_SIZE, stk_train_scaled.shape[0]):\n",
    "    feature_set.append(stk_train_scaled[i-WINDOW_SIZE:i, :])\n",
    "    labels.append(stk_train_scaled[i,0])\n",
    "for i in range(WINDOW_SIZE, stk_test_scaled.shape[0]):\n",
    "    test_feature_set.append(stk_test_scaled[i-WINDOW_SIZE:i, :])\n",
    "    test_labels.append(stk_test_scaled[i,0])\n",
    "\n",
    "feature_set, labels = np.array(feature_set), np.array(labels)\n",
    "feature_set = np.reshape(feature_set, (feature_set.shape[0], feature_set.shape[1], feature_set.shape[2]))\n",
    "print(feature_set.shape)\n",
    "\n",
    "test_feature_set, test_labels = np.array(test_feature_set), np.array(test_labels)\n",
    "test_feature_set = np.reshape(test_feature_set, (test_feature_set.shape[0], \\\n",
    "                                                            test_feature_set.shape[1], feature_set.shape[2]))\n",
    "\n",
    "### Build model\n",
    "model = lstm_build((feature_set.shape[1], feature_set.shape[2]))\n",
    "\n",
    "model.load_weights('checkpoint/2d_lstm_AAPL_checkpoint/')\n"
   ]
  },
  {
   "cell_type": "code",
   "execution_count": 45,
   "id": "bfd3b68e",
   "metadata": {},
   "outputs": [],
   "source": [
    "from xplique.plots import plot_feature_impact, plot_mean_feature_impact, summary_plot_tabular\n",
    "# get the different explanations\n",
    "explanations = []\n",
    "\n",
    "for name, Cls, params in methods_params:\n",
    "    \n",
    "    explainer   = Cls(model, **params)\n",
    "    explanation = explainer(test_feature_set, test_labels)\n",
    "\n",
    "    explanations.append((name, explanation))"
   ]
  },
  {
   "cell_type": "code",
   "execution_count": 46,
   "id": "320b7b26",
   "metadata": {},
   "outputs": [],
   "source": [
    "salience_lstm =np.array(explanations[0][1])"
   ]
  },
  {
   "cell_type": "code",
   "execution_count": 47,
   "id": "4bc0c778",
   "metadata": {},
   "outputs": [
    {
     "data": {
      "text/plain": [
       "(221, 30, 6)"
      ]
     },
     "execution_count": 47,
     "metadata": {},
     "output_type": "execute_result"
    }
   ],
   "source": [
    "salience_lstm.shape"
   ]
  },
  {
   "cell_type": "code",
   "execution_count": 48,
   "id": "2ee855f8",
   "metadata": {},
   "outputs": [
    {
     "data": {
      "text/plain": [
       "array([97.65409 , 98.00539 , 98.00539 , 97.10291 , 62.72603 ,  8.868879],\n",
       "      dtype=float32)"
      ]
     },
     "execution_count": 48,
     "metadata": {},
     "output_type": "execute_result"
    }
   ],
   "source": [
    "lstm_features = salience_lstm.mean(axis=(0,1))\n",
    "lstm_features"
   ]
  },
  {
   "cell_type": "code",
   "execution_count": 49,
   "id": "b8d4a2ba",
   "metadata": {},
   "outputs": [
    {
     "data": {
      "text/plain": [
       "array([  9.529806 ,   9.5907345,   9.660437 ,   9.724291 ,   9.812544 ,\n",
       "         9.832005 ,  11.015555 ,  12.423946 ,  13.972764 ,  17.731953 ,\n",
       "        21.54803  ,  26.11608  ,  30.721678 ,  34.732506 ,  42.009384 ,\n",
       "        51.089436 ,  60.644474 ,  71.68227  ,  84.01155  ,  98.27061  ,\n",
       "       112.64364  , 129.69792  , 147.31764  , 163.46355  , 177.96278  ,\n",
       "       187.10356  , 188.68158  , 190.03883  , 190.39066  , 190.39066  ],\n",
       "      dtype=float32)"
      ]
     },
     "execution_count": 49,
     "metadata": {},
     "output_type": "execute_result"
    }
   ],
   "source": [
    "lstm_lags = salience_lstm.mean(axis=(0,2))\n",
    "lstm_lags"
   ]
  },
  {
   "cell_type": "code",
   "execution_count": 50,
   "id": "005d26c6",
   "metadata": {},
   "outputs": [],
   "source": [
    "from xplique.plots import plot_feature_impact, plot_mean_feature_impact, summary_plot_tabular\n",
    "# get the different explanations\n",
    "explanations = []\n",
    "\n",
    "methods_params = [\n",
    "    (\"LIME\", Lime, {})\n",
    "]\n",
    "\n",
    "for name, Cls, params in methods_params:\n",
    "    \n",
    "    explainer   = Cls(model, **params)\n",
    "    explanation = explainer(test_feature_set, test_labels)\n",
    "\n",
    "    explanations.append((name, explanation))"
   ]
  },
  {
   "cell_type": "code",
   "execution_count": 51,
   "id": "945c8a41",
   "metadata": {},
   "outputs": [],
   "source": [
    "lime_lstm =np.array(explanations[0][1])"
   ]
  },
  {
   "cell_type": "code",
   "execution_count": 52,
   "id": "061f8751",
   "metadata": {},
   "outputs": [
    {
     "data": {
      "text/plain": [
       "(221, 30, 6)"
      ]
     },
     "execution_count": 52,
     "metadata": {},
     "output_type": "execute_result"
    }
   ],
   "source": [
    "lime_lstm.shape"
   ]
  },
  {
   "cell_type": "code",
   "execution_count": 53,
   "id": "87519b14",
   "metadata": {},
   "outputs": [
    {
     "data": {
      "text/plain": [
       "array([97.71234  , 98.06487  , 98.06487  , 97.14709  , 62.5949   ,\n",
       "        8.7668295], dtype=float32)"
      ]
     },
     "execution_count": 53,
     "metadata": {},
     "output_type": "execute_result"
    }
   ],
   "source": [
    "lstm_lime_features = lime_lstm.mean(axis=(0,1))\n",
    "lstm_lime_features"
   ]
  },
  {
   "cell_type": "code",
   "execution_count": 54,
   "id": "4806ec71",
   "metadata": {},
   "outputs": [
    {
     "data": {
      "text/plain": [
       "array([  9.600109,   9.657683,   9.755415,   9.813848,   9.880453,\n",
       "         9.881499,  11.01325 ,  12.44552 ,  13.929476,  17.68467 ,\n",
       "        21.517263,  26.053238,  30.655308,  34.71625 ,  42.041306,\n",
       "        51.153717,  60.731865,  71.762665,  84.08458 ,  98.297325,\n",
       "       112.64926 , 129.67267 , 147.27217 , 163.40256 , 177.88263 ,\n",
       "       187.0214  , 188.59192 , 189.95409 , 190.31479 , 190.31479 ],\n",
       "      dtype=float32)"
      ]
     },
     "execution_count": 54,
     "metadata": {},
     "output_type": "execute_result"
    }
   ],
   "source": [
    "lstm_lime_lags = lime_lstm.mean(axis=(0,2))\n",
    "lstm_lime_lags"
   ]
  },
  {
   "cell_type": "markdown",
   "id": "a6f05487",
   "metadata": {},
   "source": [
    "### CNN-LSTM"
   ]
  },
  {
   "cell_type": "code",
   "execution_count": 55,
   "id": "ec263e68",
   "metadata": {},
   "outputs": [
    {
     "name": "stdout",
     "output_type": "stream",
     "text": [
      "<class 'pandas.core.frame.DataFrame'>\n",
      "Int64Index: 251 entries, 9699 to 9949\n",
      "Data columns (total 7 columns):\n",
      " #   Column     Non-Null Count  Dtype         \n",
      "---  ------     --------------  -----         \n",
      " 0   Date       251 non-null    datetime64[ns]\n",
      " 1   Open       251 non-null    float64       \n",
      " 2   High       251 non-null    float64       \n",
      " 3   Low        251 non-null    float64       \n",
      " 4   Close      251 non-null    float64       \n",
      " 5   Adj Close  251 non-null    float64       \n",
      " 6   Volume     251 non-null    int64         \n",
      "dtypes: datetime64[ns](1), float64(5), int64(1)\n",
      "memory usage: 15.7 KB\n",
      "None\n",
      "(1244, 15, 6)\n",
      "(236, 15, 6)\n",
      "(1244, 1, 15, 6)\n",
      "(236, 1, 15, 6)\n"
     ]
    },
    {
     "data": {
      "text/plain": [
       "<tensorflow.python.training.tracking.util.CheckpointLoadStatus at 0x239584816d0>"
      ]
     },
     "execution_count": 55,
     "metadata": {},
     "output_type": "execute_result"
    }
   ],
   "source": [
    "from cnn_lstm import cnn_lstm_build\n",
    "from sklearn.preprocessing import MinMaxScaler, StandardScaler\n",
    "import visualization.view_time_series as vts\n",
    "import numpy as np\n",
    "\n",
    "WINDOW_SIZE = 15\n",
    "\n",
    "stk_train = vts.stock_get(\"AAPL\", \"2014-06-01\", \"2019-06-01\")\n",
    "stk_test = vts.stock_get(\"AAPL\", \"2019-06-01\", \"2020-06-01\")\n",
    "\n",
    "AAPL = stk_train\n",
    "AAPL_test = stk_test\n",
    "print(AAPL_test.info())\n",
    "\n",
    "apple_train = AAPL.iloc[:,1:7].values\n",
    "num_instances, num_features = AAPL.shape\n",
    "apple_test = AAPL_test.iloc[:, 1:7].values\n",
    "\n",
    "scaler = StandardScaler()\n",
    "\n",
    "apple_train_scaled = scaler.fit_transform(apple_train)\n",
    "apple_test_scaled = scaler.transform(apple_test)\n",
    "\n",
    "feature_set = []\n",
    "labels = []\n",
    "test_feature_set = []\n",
    "test_labels = []\n",
    "\n",
    "for i in range(WINDOW_SIZE, apple_train_scaled.shape[0]):\n",
    "    feature_set.append(apple_train_scaled[i-WINDOW_SIZE:i, :])\n",
    "    labels.append(apple_train_scaled[i,0])\n",
    "for i in range(WINDOW_SIZE, apple_test_scaled.shape[0]):\n",
    "    test_feature_set.append(apple_test_scaled[i-WINDOW_SIZE:i, :])\n",
    "    test_labels.append(apple_test_scaled[i,0])\n",
    "\n",
    "feature_set, labels = np.array(feature_set), np.array(labels)\n",
    "feature_set = np.reshape(feature_set, (feature_set.shape[0], feature_set.shape[1], feature_set.shape[2]))\n",
    "\n",
    "test_feature_set, test_labels = np.array(test_feature_set), np.array(test_labels)\n",
    "test_feature_set = np.reshape(test_feature_set, (test_feature_set.shape[0], \\\n",
    "                                                        test_feature_set.shape[1], feature_set.shape[2]))\n",
    "print(feature_set.shape)\n",
    "print(test_feature_set.shape)\n",
    "\n",
    "n_steps, n_length = 1, WINDOW_SIZE\n",
    "n_features = feature_set.shape[2]\n",
    "X_train = feature_set.reshape((feature_set.shape[0], n_steps, n_length, n_features))\n",
    "X_test = test_feature_set.reshape((test_feature_set.shape[0], n_steps, n_length, n_features))\n",
    "print(X_train.shape)\n",
    "print(X_test.shape)\n",
    "\n",
    "model = cnn_lstm_build(n_length,n_features)\n",
    "\n",
    "model.load_weights('checkpoint/cnn_lstm_AAPL_checkpoint/')"
   ]
  },
  {
   "cell_type": "code",
   "execution_count": 56,
   "id": "78e7bc39",
   "metadata": {},
   "outputs": [
    {
     "name": "stdout",
     "output_type": "stream",
     "text": [
      "(236, 1, 15, 6)\n",
      "(236, 90)\n",
      "(236, 1, 15, 6)\n",
      "(236,)\n",
      "(236,)\n",
      "(1, 21240)\n"
     ]
    }
   ],
   "source": [
    "X_test.shape\n",
    "qc_reshape = X_test.reshape((236,90))\n",
    "print(X_test.shape)\n",
    "print(qc_reshape.shape)\n",
    "print(qc_reshape.reshape((236, 1, 15, 6)).shape)\n",
    "print(test_labels.shape)\n",
    "print(model.predict(X_test)[:,0].shape)\n",
    "print(X_test.reshape((1,-1)).shape)"
   ]
  },
  {
   "cell_type": "code",
   "execution_count": 57,
   "id": "c5e15759",
   "metadata": {},
   "outputs": [],
   "source": [
    "methods_params = [\n",
    "    (\"Saliency\", Saliency, {})\n",
    "]\n",
    "\n",
    "from xplique.plots import plot_feature_impact, plot_mean_feature_impact, summary_plot_tabular\n",
    "# get the different explanations\n",
    "explanations = []\n",
    "\n",
    "for name, Cls, params in methods_params:\n",
    "    \n",
    "    explainer   = Cls(model, **params)\n",
    "    explanation = explainer(X_test, test_labels)\n",
    "\n",
    "    explanations.append((name, explanation))"
   ]
  },
  {
   "cell_type": "code",
   "execution_count": 58,
   "id": "4f477aaa",
   "metadata": {},
   "outputs": [],
   "source": [
    "salience_cnn_lstm =np.array(explanations[0][1])"
   ]
  },
  {
   "cell_type": "code",
   "execution_count": 59,
   "id": "ab47c960",
   "metadata": {},
   "outputs": [
    {
     "data": {
      "text/plain": [
       "(236, 1, 15)"
      ]
     },
     "execution_count": 59,
     "metadata": {},
     "output_type": "execute_result"
    }
   ],
   "source": [
    "salience_cnn_lstm.shape"
   ]
  },
  {
   "cell_type": "code",
   "execution_count": 60,
   "id": "37d8b3ad",
   "metadata": {},
   "outputs": [
    {
     "name": "stdout",
     "output_type": "stream",
     "text": [
      "(236, 1, 15, 6)\n",
      "(236, 15, 6)\n",
      "(236, 1, 15, 6)\n"
     ]
    }
   ],
   "source": [
    "print(X_test.shape)\n",
    "bla = X_test[:,0,:,:]\n",
    "print(bla.shape)\n",
    "bla = np.reshape(bla, ((bla.shape[0], 1, bla.shape[1], bla.shape[2])))\n",
    "print(bla.shape)"
   ]
  },
  {
   "cell_type": "code",
   "execution_count": 61,
   "id": "d66bc53e",
   "metadata": {},
   "outputs": [
    {
     "data": {
      "text/plain": [
       "array([3.4811397e-04, 1.0775661e-03, 3.4264650e-02, 8.6070083e-02,\n",
       "       9.5924205e-01, 7.7630776e-01, 9.0068601e-02, 1.4113129e+00,\n",
       "       1.9413731e+00, 1.7539660e+00, 6.8834466e-01, 4.8150516e-01,\n",
       "       4.2212553e+00, 1.2786450e+01, 3.9222218e+01], dtype=float32)"
      ]
     },
     "execution_count": 61,
     "metadata": {},
     "output_type": "execute_result"
    }
   ],
   "source": [
    "cnn_lstm_lags = salience_cnn_lstm.mean(axis=(0,1))\n",
    "cnn_lstm_lags"
   ]
  },
  {
   "cell_type": "code",
   "execution_count": 62,
   "id": "fc196b29",
   "metadata": {},
   "outputs": [],
   "source": [
    "from xplique.plots import plot_feature_impact, plot_mean_feature_impact, summary_plot_tabular\n",
    "# get the different explanations\n",
    "\n",
    "methods_params = [\n",
    "    (\"LIME\", Lime, {})\n",
    "]\n",
    "\n",
    "explanations = []\n",
    "\n",
    "def predict(qc):\n",
    "    global model\n",
    "    return model.predict(qc.reshape((qc.shape[0], 1, 15, 6)))\n",
    "for name, Cls, params in methods_params:\n",
    "    \n",
    "    explainer   = Cls(predict, **params)\n",
    "    explanation = explainer(qc_reshape, test_labels)\n",
    "\n",
    "    explanations.append((name, explanation))"
   ]
  },
  {
   "cell_type": "code",
   "execution_count": 63,
   "id": "1a50ab63",
   "metadata": {},
   "outputs": [],
   "source": [
    "lime_cnn_lstm = np.array(explanations[0][1]).reshape(X_test.shape)"
   ]
  },
  {
   "cell_type": "code",
   "execution_count": 64,
   "id": "4a5f60bb",
   "metadata": {},
   "outputs": [
    {
     "data": {
      "text/plain": [
       "array([ 6.722421  , 19.09487   , 20.319057  , 28.587498  , 28.006138  ,\n",
       "       -0.11124067], dtype=float32)"
      ]
     },
     "execution_count": 64,
     "metadata": {},
     "output_type": "execute_result"
    }
   ],
   "source": [
    "cnn_lstm_features = lime_cnn_lstm.mean(axis=(0,1,2))\n",
    "cnn_lstm_features"
   ]
  },
  {
   "cell_type": "code",
   "execution_count": 65,
   "id": "a89d72df",
   "metadata": {},
   "outputs": [
    {
     "data": {
      "text/plain": [
       "array([ 1.6744502e-01,  1.0136764e-01,  9.0008989e-02,  5.1324565e-02,\n",
       "        4.0509477e+00,  3.1800628e+00, -4.4591587e-02, -6.6827760e+00,\n",
       "       -9.0876160e+00, -7.6382594e+00, -2.9202454e+00,  1.9857116e+00,\n",
       "        2.3621099e+01,  6.4339577e+01,  1.8533276e+02], dtype=float32)"
      ]
     },
     "execution_count": 65,
     "metadata": {},
     "output_type": "execute_result"
    }
   ],
   "source": [
    "cnn_lstm_lags = lime_cnn_lstm.mean(axis=(0,1,3))\n",
    "cnn_lstm_lags"
   ]
  },
  {
   "cell_type": "markdown",
   "id": "0a317bbf",
   "metadata": {},
   "source": [
    "### Comparison"
   ]
  },
  {
   "cell_type": "code",
   "execution_count": 66,
   "id": "a69c3693",
   "metadata": {},
   "outputs": [
    {
     "data": {
      "text/plain": [
       "-11.527111999999992"
      ]
     },
     "execution_count": 66,
     "metadata": {},
     "output_type": "execute_result"
    }
   ],
   "source": [
    "np.sum(stk_train[\"Open\"] - stk_train[\"Close\"]) "
   ]
  },
  {
   "cell_type": "code",
   "execution_count": 89,
   "id": "7de572e5",
   "metadata": {},
   "outputs": [
    {
     "name": "stdout",
     "output_type": "stream",
     "text": [
      "               LSTM       CNN  CNN-LSTM\n",
      "Open       3.505379  7.323893 -0.004119\n",
      "High       3.505379  7.882462  0.003993\n",
      "Low        3.529771  7.134537  0.005368\n",
      "Close      3.648566  6.680096  0.000986\n",
      "Adj Close  3.624537  7.777187 -0.001637\n",
      "Volume     2.752692  1.930028  0.001395\n"
     ]
    }
   ],
   "source": [
    "res_feat = pd.DataFrame(columns=[\"Open\", \"High\", \"Low\", \"Close\", \"Adj Close\", \"Volume\"])\n",
    "for el in [lstm_lime_features, cnn_features, cnn_lstm_features]:\n",
    "    res_feat = res_feat.append({key: el[i] for key, i in zip(res_feat, range(len(res_feat.columns)))}, ignore_index=True)\n",
    "res_feat = res_feat.T\n",
    "res_feat.rename(columns={0: \"LSTM\", 1: \"CNN\", 2: \"CNN-LSTM\"}, inplace=True)\n",
    "for col in [\"LSTM\", \"CNN\", \"CNN-LSTM\"]:\n",
    "    res_feat[col] = res_feat[col] #/ res_feat[col].std()\n",
    "print(res_feat)\n",
    "res_feat = res_feat.reset_index()\n",
    "res_feat = res_feat.melt(id_vars=\"index\")"
   ]
  },
  {
   "cell_type": "code",
   "execution_count": 90,
   "id": "02a268fb",
   "metadata": {},
   "outputs": [
    {
     "name": "stderr",
     "output_type": "stream",
     "text": [
      "Saving 6.4 x 4.8 in image.\n",
      "Filename: fig3.png\n"
     ]
    },
    {
     "data": {
      "image/png": "[encoded data removed]",
      "text/plain": [
       "<Figure size 640x480 with 1 Axes>"
      ]
     },
     "metadata": {},
     "output_type": "display_data"
    },
    {
     "data": {
      "text/plain": [
       "<ggplot: (152848472327)>"
      ]
     },
     "execution_count": 90,
     "metadata": {},
     "output_type": "execute_result"
    }
   ],
   "source": [
    "grpcol = [\"red\", \"green\", \"blue\"]\n",
    "g = (\n",
    "    ggplot(res_feat, aes(x=\"index\", y=\"value\", fill=\"variable\")) +\n",
    "    geom_bar(stat=\"identity\", position=position_dodge()) +\n",
    "    labs(y=\"LIME\", x=\"Feature\") +\n",
    "    scale_fill_manual(values=grpcol)\n",
    ")\n",
    "ggsave(plot=g, filename='fig3.png', dpi=80)\n",
    "g"
   ]
  },
  {
   "cell_type": "code",
   "execution_count": 69,
   "id": "8e760880",
   "metadata": {},
   "outputs": [
    {
     "name": "stdout",
     "output_type": "stream",
     "text": [
      "         LSTM        CNN    CNN-LSTM\n",
      "0   42.041306  13.015950  185.332764\n",
      "1   34.716251   8.099051   64.339577\n",
      "2   30.655308  12.063681   23.621099\n",
      "3   26.053238   4.400672    1.985712\n",
      "4   21.517263   4.485649   -2.920245\n",
      "5   17.684669   5.143189   -7.638259\n",
      "6   13.929476   3.441393   -9.087616\n",
      "7   12.445520   3.445073   -6.682776\n",
      "8   11.013250   2.867023   -0.044592\n",
      "9    9.881499   1.533086    3.180063\n",
      "10   9.880453   4.602129    4.050948\n",
      "11   9.813848   7.744931    0.051325\n",
      "12   9.755415   7.749563    0.090009\n",
      "13   9.657683   1.003929    0.101368\n",
      "14   9.600109   0.263858    0.167445\n"
     ]
    }
   ],
   "source": [
    "res_lags = pd.DataFrame(columns=[i for i in range(15)])\n",
    "for el in [lstm_lime_lags[:15][::-1], cnn_lags[:15][::-1], cnn_lstm_lags[:15][::-1]]:\n",
    "    res_lags = res_lags.append({i: el[i] for key, i in zip(res_lags, range(len(res_lags.columns)))}, ignore_index=True)\n",
    "res_lags = res_lags.T\n",
    "res_lags.rename(columns={0: \"LSTM\", 1: \"CNN\", 2: \"CNN-LSTM\"}, inplace=True)\n",
    "for col in [\"LSTM\", \"CNN\", \"CNN-LSTM\"]:\n",
    "    res_lags[col] = res_lags[col] #/ res_lags[col].std()\n",
    "print(res_lags)\n",
    "res_lags = res_lags.reset_index()\n",
    "res_lags = res_lags.melt(id_vars=\"index\")"
   ]
  },
  {
   "cell_type": "code",
   "execution_count": 70,
   "id": "59cfc93c",
   "metadata": {},
   "outputs": [
    {
     "data": {
      "text/plain": [
       "array([  9.600109,   9.657683,   9.755415,   9.813848,   9.880453,\n",
       "         9.881499,  11.01325 ,  12.44552 ,  13.929476,  17.68467 ,\n",
       "        21.517263,  26.053238,  30.655308,  34.71625 ,  42.041306,\n",
       "        51.153717,  60.731865,  71.762665,  84.08458 ,  98.297325,\n",
       "       112.64926 , 129.67267 , 147.27217 , 163.40256 , 177.88263 ,\n",
       "       187.0214  , 188.59192 , 189.95409 , 190.31479 , 190.31479 ],\n",
       "      dtype=float32)"
      ]
     },
     "execution_count": 70,
     "metadata": {},
     "output_type": "execute_result"
    }
   ],
   "source": [
    "lstm_lime_lags"
   ]
  },
  {
   "cell_type": "code",
   "execution_count": 71,
   "id": "6aefb066",
   "metadata": {},
   "outputs": [
    {
     "data": {
      "text/html": [
       "<div>\n",
       "<style scoped>\n",
       "    .dataframe tbody tr th:only-of-type {\n",
       "        vertical-align: middle;\n",
       "    }\n",
       "\n",
       "    .dataframe tbody tr th {\n",
       "        vertical-align: top;\n",
       "    }\n",
       "\n",
       "    .dataframe thead th {\n",
       "        text-align: right;\n",
       "    }\n",
       "</style>\n",
       "<table border=\"1\" class=\"dataframe\">\n",
       "  <thead>\n",
       "    <tr style=\"text-align: right;\">\n",
       "      <th></th>\n",
       "      <th>index</th>\n",
       "      <th>value</th>\n",
       "    </tr>\n",
       "    <tr>\n",
       "      <th>variable</th>\n",
       "      <th></th>\n",
       "      <th></th>\n",
       "    </tr>\n",
       "  </thead>\n",
       "  <tbody>\n",
       "    <tr>\n",
       "      <th>CNN</th>\n",
       "      <td>4.472136</td>\n",
       "      <td>3.759693</td>\n",
       "    </tr>\n",
       "    <tr>\n",
       "      <th>CNN-LSTM</th>\n",
       "      <td>4.472136</td>\n",
       "      <td>49.916109</td>\n",
       "    </tr>\n",
       "    <tr>\n",
       "      <th>LSTM</th>\n",
       "      <td>4.472136</td>\n",
       "      <td>10.683729</td>\n",
       "    </tr>\n",
       "  </tbody>\n",
       "</table>\n",
       "</div>"
      ],
      "text/plain": [
       "             index      value\n",
       "variable                     \n",
       "CNN       4.472136   3.759693\n",
       "CNN-LSTM  4.472136  49.916109\n",
       "LSTM      4.472136  10.683729"
      ]
     },
     "execution_count": 71,
     "metadata": {},
     "output_type": "execute_result"
    }
   ],
   "source": [
    "res_lags.groupby(\"variable\").std()"
   ]
  },
  {
   "cell_type": "code",
   "execution_count": 72,
   "id": "7585d0a5",
   "metadata": {},
   "outputs": [
    {
     "name": "stderr",
     "output_type": "stream",
     "text": [
      "Saving 6.4 x 4.8 in image.\n",
      "Filename: fig4.png\n",
      "Confidence intervals are not yet implementedfor lowess smoothings.\n",
      "Confidence intervals are not yet implementedfor lowess smoothings.\n"
     ]
    },
    {
     "data": {
      "image/png": "[encoded data removed]",
      "text/plain": [
       "<Figure size 640x480 with 1 Axes>"
      ]
     },
     "metadata": {},
     "output_type": "display_data"
    },
    {
     "data": {
      "text/plain": [
       "<ggplot: (152832079442)>"
      ]
     },
     "execution_count": 72,
     "metadata": {},
     "output_type": "execute_result"
    }
   ],
   "source": [
    "grpcol = [\"red\", \"green\", \"blue\"]\n",
    "g = (\n",
    "    ggplot(res_lags, aes(x=\"index\", y=\"value\", color=\"variable\"))\n",
    "    + geom_smooth()\n",
    "    + scale_color_manual(values=grpcol)\n",
    "    + labs(x=\"Lag\", y=\"LIME\")\n",
    ")\n",
    "ggsave(plot=g, filename='fig4.png', dpi=80)\n",
    "g"
   ]
  },
  {
   "cell_type": "code",
   "execution_count": 75,
   "id": "0fdd2e91",
   "metadata": {},
   "outputs": [
    {
     "name": "stdout",
     "output_type": "stream",
     "text": [
      "0: 0.0\n",
      "1: 21.416069\n",
      "2: 43.45856799999997\n",
      "3: 64.79785300000005\n",
      "4: 86.44928199999998\n",
      "5: 108.28856699999977\n",
      "6: 130.06356900000014\n",
      "7: 152.5460689999999\n",
      "8: 175.3185699999999\n",
      "9: 197.68857100000002\n",
      "10: 221.37106999999986\n",
      "11: 245.97106999999954\n",
      "12: 269.461072\n",
      "13: 292.99607400000053\n",
      "14: 316.8510759999996\n"
     ]
    }
   ],
   "source": [
    "test_rep = list(stk_train[\"Open\"])\n",
    "tvs = []\n",
    "for j in range(15):\n",
    "    tv = []\n",
    "    for i in range(j, len(test_rep)):\n",
    "        tv.append(test_rep[i] - test_rep[i-j])\n",
    "    tv = np.array(tv)\n",
    "    print(f\"{j}: {sum(tv)}\")\n",
    "    tvs.append(sum(tv))"
   ]
  },
  {
   "cell_type": "markdown",
   "id": "bcc50138",
   "metadata": {},
   "source": [
    "## Residuals"
   ]
  },
  {
   "cell_type": "markdown",
   "id": "e204f97b",
   "metadata": {},
   "source": [
    "### CNN"
   ]
  },
  {
   "cell_type": "code",
   "execution_count": 76,
   "id": "f451f25e",
   "metadata": {},
   "outputs": [
    {
     "name": "stdout",
     "output_type": "stream",
     "text": [
      "[[-0.22945724 -0.79200888 -0.45288655 -0.29675078 -0.28676564 -1.37851679]\n",
      " [-0.41752729  0.37921694  0.40503627  0.53386549  0.49863561 -0.82486279]\n",
      " [ 0.52495142  0.57646036  0.41700401  0.41362534  0.38624276  0.69216119]\n",
      " ...\n",
      " [-1.15899059 -0.51810645 -0.82961539 -0.42072251 -0.43786795 -0.05123333]\n",
      " [ 0.54108656 -0.04649368  0.35013129  0.39607715  0.40769196 -0.57666506]\n",
      " [-0.6924126  -0.67618541 -0.86635351 -1.46959356 -1.51804864  0.13673633]]\n"
     ]
    }
   ],
   "source": [
    "from a2d_cnn import cnn_build\n",
    "\n",
    "WINDOW_SIZE = 18\n",
    "model = cnn_build(WINDOW_SIZE)\n",
    "model.load_weights('checkpoint/cnn_rez_AAPL_checkpoint/')\n",
    "\n",
    "import numpy as np\n",
    "import visualization.view_time_series as vts\n",
    "from sklearn.preprocessing import StandardScaler\n",
    "stk_train = vts.stock_get(\"AAPL_residuals\", \"2014-06-01\", \"2019-06-01\")\n",
    "stk_test = vts.stock_get(\"AAPL_residuals\", \"2019-06-01\", \"2020-06-01\")\n",
    "\n",
    "apple_train = stk_train.iloc[:,1:7].values\n",
    "num_instances, num_features = stk_train.shape\n",
    "apple_test = stk_test.iloc[:, 1:7].values\n",
    "\n",
    "feature_set = []\n",
    "labels = []\n",
    "test_feature_set = []\n",
    "test_labels = []\n",
    "\n",
    "scaler = StandardScaler()\n",
    "#scaler = MinMaxScaler(feature_range=(-1,1))\n",
    "\n",
    "apple_train_scaled = scaler.fit_transform(apple_train)\n",
    "print(apple_train_scaled)\n",
    "apple_test_scaled = scaler.transform(apple_test)\n",
    "\n",
    "for i in range(WINDOW_SIZE, apple_train_scaled.shape[0]):\n",
    "    feature_set.append(apple_train_scaled[i-WINDOW_SIZE:i, :])\n",
    "    labels.append(apple_train_scaled[i,0])\n",
    "for i in range(WINDOW_SIZE, apple_test_scaled.shape[0]):\n",
    "    test_feature_set.append(apple_test_scaled[i-WINDOW_SIZE:i, :])\n",
    "    test_labels.append(apple_test_scaled[i,0])\n",
    "\n",
    "feature_set, labels = np.array(feature_set), np.array(labels)\n",
    "feature_set = np.reshape(feature_set, (feature_set.shape[0], feature_set.shape[1], feature_set.shape[2], 1))\n",
    "    \n",
    "test_feature_set, test_labels = np.array(test_feature_set), np.array(test_labels)\n",
    "test_feature_set = np.reshape(test_feature_set, (test_feature_set.shape[0], \\\n",
    "                                                            test_feature_set.shape[1], feature_set.shape[2], 1))"
   ]
  },
  {
   "cell_type": "code",
   "execution_count": 77,
   "id": "f228d3b0",
   "metadata": {},
   "outputs": [],
   "source": [
    "from xplique.plots import plot_feature_impact, plot_mean_feature_impact, summary_plot_tabular\n",
    "# get the different explanations\n",
    "\n",
    "methods_params = [\n",
    "    (\"LIME\", Lime, {})\n",
    "]\n",
    "\n",
    "explanations = []\n",
    "\n",
    "qc_reshape = test_feature_set.reshape((233,18*6))\n",
    "\n",
    "def predict(qc):\n",
    "    global model\n",
    "    return model.predict(qc.reshape((qc.shape[0], 18, 6, 1)))\n",
    "for name, Cls, params in methods_params:\n",
    "    \n",
    "    explainer   = Cls(predict, **params)\n",
    "    explanation = explainer(qc_reshape, test_labels)\n",
    "\n",
    "    explanations.append((name, explanation))"
   ]
  },
  {
   "cell_type": "code",
   "execution_count": 78,
   "id": "dd285381",
   "metadata": {},
   "outputs": [
    {
     "name": "stdout",
     "output_type": "stream",
     "text": [
      "(233, 18, 6, 1)\n",
      "[7.323893  7.8824615 7.1345367 6.680096  7.7771873 1.9300284]\n",
      "[ 0.67576665  1.3269963   1.7454101   2.2217782   1.9820212   1.9726758\n",
      "  2.5307043   2.9020813   3.419928    3.960779    4.0794497   4.1854362\n",
      "  7.2924905   8.232275   14.624146   14.766368   21.987574   18.278772  ]\n"
     ]
    }
   ],
   "source": [
    "lime_cnn =np.array(explanations[0][1]).reshape(test_feature_set.shape)\n",
    "print(lime_cnn.shape)\n",
    "cnn_features = salience_cnn.mean(axis=(0,1))\n",
    "cnn_lags = salience_cnn.mean(axis=(0,2))\n",
    "print(cnn_features)\n",
    "print(cnn_lags)"
   ]
  },
  {
   "cell_type": "markdown",
   "id": "a85b00c9",
   "metadata": {},
   "source": [
    "### LSTM"
   ]
  },
  {
   "cell_type": "code",
   "execution_count": 79,
   "id": "b8ef347a",
   "metadata": {},
   "outputs": [
    {
     "name": "stdout",
     "output_type": "stream",
     "text": [
      "[[-0.01823789 -0.08933391 -0.07591487  0.12313678  0.12971938 -0.72295819]\n",
      " [-0.0463366   0.08883762  0.06553692  0.26388975  0.26047503 -0.63809392]\n",
      " [ 0.09447497  0.11884307  0.06751013  0.24351432  0.24176357 -0.40556398]\n",
      " ...\n",
      " [-0.15711535 -0.04766678 -0.13802881  0.10212901  0.10456347 -0.51951174]\n",
      " [ 0.09688565  0.02407682  0.05648435  0.24054068  0.24533449 -0.60005009]\n",
      " [-0.087406   -0.07171438 -0.14408608 -0.07560855 -0.07526783 -0.49069969]]\n",
      "(1229, 30, 6)\n"
     ]
    },
    {
     "data": {
      "text/plain": [
       "<tensorflow.python.training.tracking.util.CheckpointLoadStatus at 0x23965371550>"
      ]
     },
     "execution_count": 79,
     "metadata": {},
     "output_type": "execute_result"
    }
   ],
   "source": [
    "from a2d_lstm import lstm_build\n",
    "from sklearn.preprocessing import MinMaxScaler, StandardScaler\n",
    "import visualization.view_time_series as vts\n",
    "import numpy as np\n",
    "\n",
    "WINDOW_SIZE = 30\n",
    "\n",
    "stk_train = vts.stock_get(\"AAPL_residuals\", \"2014-06-01\", \"2019-06-01\")\n",
    "stk_test = vts.stock_get(\"AAPL_residuals\", \"2019-06-01\", \"2020-06-01\")\n",
    "\n",
    "stk_train = stk_train.iloc[:,1:7].values\n",
    "num_instances, num_features = stk_train.shape\n",
    "stk_test = stk_test.iloc[:, 1:7].values\n",
    "\n",
    "feature_set = []\n",
    "labels = []\n",
    "test_feature_set = []\n",
    "test_labels = []\n",
    "\n",
    "            #scaler = StandardScaler()\n",
    "scaler = MinMaxScaler(feature_range=(-1,1))\n",
    "\n",
    "stk_train_scaled = scaler.fit_transform(stk_train)\n",
    "print(stk_train_scaled)\n",
    "stk_test_scaled = scaler.transform(stk_test)\n",
    "\n",
    "for i in range(WINDOW_SIZE, stk_train_scaled.shape[0]):\n",
    "    feature_set.append(stk_train_scaled[i-WINDOW_SIZE:i, :])\n",
    "    labels.append(stk_train_scaled[i,0])\n",
    "for i in range(WINDOW_SIZE, stk_test_scaled.shape[0]):\n",
    "    test_feature_set.append(stk_test_scaled[i-WINDOW_SIZE:i, :])\n",
    "    test_labels.append(stk_test_scaled[i,0])\n",
    "\n",
    "feature_set, labels = np.array(feature_set), np.array(labels)\n",
    "feature_set = np.reshape(feature_set, (feature_set.shape[0], feature_set.shape[1], feature_set.shape[2]))\n",
    "print(feature_set.shape)\n",
    "\n",
    "test_feature_set, test_labels = np.array(test_feature_set), np.array(test_labels)\n",
    "test_feature_set = np.reshape(test_feature_set, (test_feature_set.shape[0], \\\n",
    "                                                            test_feature_set.shape[1], feature_set.shape[2]))\n",
    "\n",
    "### Build model\n",
    "model = lstm_build((feature_set.shape[1], feature_set.shape[2]))\n",
    "\n",
    "model.load_weights('checkpoint/lstm_rez_AAPL_checkpoint/')"
   ]
  },
  {
   "cell_type": "code",
   "execution_count": 80,
   "id": "6b60e25a",
   "metadata": {},
   "outputs": [],
   "source": [
    "from xplique.plots import plot_feature_impact, plot_mean_feature_impact, summary_plot_tabular\n",
    "# get the different explanations\n",
    "explanations = []\n",
    "\n",
    "methods_params = [\n",
    "    (\"LIME\", Lime, {})\n",
    "]\n",
    "\n",
    "for name, Cls, params in methods_params:\n",
    "    \n",
    "    explainer   = Cls(model, **params)\n",
    "    explanation = explainer(test_feature_set, test_labels)\n",
    "\n",
    "    explanations.append((name, explanation))"
   ]
  },
  {
   "cell_type": "code",
   "execution_count": 81,
   "id": "752df510",
   "metadata": {},
   "outputs": [
    {
     "name": "stdout",
     "output_type": "stream",
     "text": [
      "[3.5053792 3.5053792 3.5297706 3.6485655 3.6245375 2.7526917]\n",
      "[ 0.2523272   0.25290596  0.26589257  0.27485925  0.21280377  0.21783535\n",
      "  0.3878331   0.4708066   0.600969    1.6670483   2.709422    2.0041308\n",
      "  1.0082456   1.3231479   1.8068615   2.2714024   2.4466727   2.6306484\n",
      "  2.9129364   3.1736386   3.510575    4.5236597   4.9144      6.596994\n",
      "  7.478447    9.084185    9.562591    9.795303    9.860153   10.615443  ]\n"
     ]
    }
   ],
   "source": [
    "lime_lstm =np.array(explanations[0][1])\n",
    "lstm_lime_features = lime_lstm.mean(axis=(0,1))\n",
    "print(lstm_lime_features)\n",
    "lstm_lime_lags = lime_lstm.mean(axis=(0,2))\n",
    "print(lstm_lime_lags)"
   ]
  },
  {
   "cell_type": "markdown",
   "id": "14c44137",
   "metadata": {},
   "source": [
    "### CNN-LSTM"
   ]
  },
  {
   "cell_type": "code",
   "execution_count": 82,
   "id": "3ad5ec5f",
   "metadata": {},
   "outputs": [
    {
     "name": "stdout",
     "output_type": "stream",
     "text": [
      "<class 'pandas.core.frame.DataFrame'>\n",
      "Int64Index: 251 entries, 2368 to 2618\n",
      "Data columns (total 7 columns):\n",
      " #   Column     Non-Null Count  Dtype         \n",
      "---  ------     --------------  -----         \n",
      " 0   Date       251 non-null    datetime64[ns]\n",
      " 1   Open       251 non-null    float64       \n",
      " 2   High       251 non-null    float64       \n",
      " 3   Low        251 non-null    float64       \n",
      " 4   Close      251 non-null    float64       \n",
      " 5   Adj Close  251 non-null    float64       \n",
      " 6   Volume     251 non-null    float64       \n",
      "dtypes: datetime64[ns](1), float64(6)\n",
      "memory usage: 15.7 KB\n",
      "None\n",
      "(1241, 18, 6)\n",
      "(233, 18, 6)\n",
      "(1241, 1, 18, 6)\n",
      "(233, 1, 18, 6)\n"
     ]
    },
    {
     "ename": "ValueError",
     "evalue": "Shapes (896, 400) and (704, 400) are incompatible",
     "output_type": "error",
     "traceback": [
      "\u001b[1;31m---------------------------------------------------------------------------\u001b[0m",
      "\u001b[1;31mValueError\u001b[0m                                Traceback (most recent call last)",
      "\u001b[1;32m~\\AppData\\Local\\Temp/ipykernel_32/1730707727.py\u001b[0m in \u001b[0;36m<module>\u001b[1;34m\u001b[0m\n\u001b[0;32m     52\u001b[0m \u001b[0mmodel\u001b[0m \u001b[1;33m=\u001b[0m \u001b[0mcnn_lstm_build\u001b[0m\u001b[1;33m(\u001b[0m\u001b[0mn_length\u001b[0m\u001b[1;33m,\u001b[0m\u001b[0mn_features\u001b[0m\u001b[1;33m)\u001b[0m\u001b[1;33m\u001b[0m\u001b[1;33m\u001b[0m\u001b[0m\n\u001b[0;32m     53\u001b[0m \u001b[1;33m\u001b[0m\u001b[0m\n\u001b[1;32m---> 54\u001b[1;33m \u001b[0mmodel\u001b[0m\u001b[1;33m.\u001b[0m\u001b[0mload_weights\u001b[0m\u001b[1;33m(\u001b[0m\u001b[1;34m'checkpoint/cnn_lstm_rez_AAPL_checkpoint/'\u001b[0m\u001b[1;33m)\u001b[0m\u001b[1;33m\u001b[0m\u001b[1;33m\u001b[0m\u001b[0m\n\u001b[0m",
      "\u001b[1;32mD:\\Anaconda\\envs\\su\\lib\\site-packages\\tensorflow\\python\\keras\\engine\\training.py\u001b[0m in \u001b[0;36mload_weights\u001b[1;34m(self, filepath, by_name, skip_mismatch, options)\u001b[0m\n\u001b[0;32m   2324\u001b[0m     \u001b[0mfilepath\u001b[0m\u001b[1;33m,\u001b[0m \u001b[0msave_format\u001b[0m \u001b[1;33m=\u001b[0m \u001b[0m_detect_save_format\u001b[0m\u001b[1;33m(\u001b[0m\u001b[0mfilepath\u001b[0m\u001b[1;33m)\u001b[0m\u001b[1;33m\u001b[0m\u001b[1;33m\u001b[0m\u001b[0m\n\u001b[0;32m   2325\u001b[0m     \u001b[1;32mif\u001b[0m \u001b[0msave_format\u001b[0m \u001b[1;33m==\u001b[0m \u001b[1;34m'tf'\u001b[0m\u001b[1;33m:\u001b[0m\u001b[1;33m\u001b[0m\u001b[1;33m\u001b[0m\u001b[0m\n\u001b[1;32m-> 2326\u001b[1;33m       \u001b[0mstatus\u001b[0m \u001b[1;33m=\u001b[0m \u001b[0mself\u001b[0m\u001b[1;33m.\u001b[0m\u001b[0m_trackable_saver\u001b[0m\u001b[1;33m.\u001b[0m\u001b[0mrestore\u001b[0m\u001b[1;33m(\u001b[0m\u001b[0mfilepath\u001b[0m\u001b[1;33m,\u001b[0m \u001b[0moptions\u001b[0m\u001b[1;33m)\u001b[0m\u001b[1;33m\u001b[0m\u001b[1;33m\u001b[0m\u001b[0m\n\u001b[0m\u001b[0;32m   2327\u001b[0m       \u001b[1;32mif\u001b[0m \u001b[0mby_name\u001b[0m\u001b[1;33m:\u001b[0m\u001b[1;33m\u001b[0m\u001b[1;33m\u001b[0m\u001b[0m\n\u001b[0;32m   2328\u001b[0m         raise NotImplementedError(\n",
      "\u001b[1;32mD:\\Anaconda\\envs\\su\\lib\\site-packages\\tensorflow\\python\\training\\tracking\\util.py\u001b[0m in \u001b[0;36mrestore\u001b[1;34m(self, save_path, options)\u001b[0m\n\u001b[0;32m   1380\u001b[0m         \u001b[0mgraph_view\u001b[0m\u001b[1;33m=\u001b[0m\u001b[0mself\u001b[0m\u001b[1;33m.\u001b[0m\u001b[0m_graph_view\u001b[0m\u001b[1;33m,\u001b[0m\u001b[1;33m\u001b[0m\u001b[1;33m\u001b[0m\u001b[0m\n\u001b[0;32m   1381\u001b[0m         options=options)\n\u001b[1;32m-> 1382\u001b[1;33m     base.CheckpointPosition(\n\u001b[0m\u001b[0;32m   1383\u001b[0m         checkpoint=checkpoint, proto_id=0).restore(self._graph_view.root)\n\u001b[0;32m   1384\u001b[0m \u001b[1;33m\u001b[0m\u001b[0m\n",
      "\u001b[1;32mD:\\Anaconda\\envs\\su\\lib\\site-packages\\tensorflow\\python\\training\\tracking\\base.py\u001b[0m in \u001b[0;36mrestore\u001b[1;34m(self, trackable)\u001b[0m\n\u001b[0;32m    252\u001b[0m         \u001b[1;31m# This object's correspondence with a checkpointed object is new, so\u001b[0m\u001b[1;33m\u001b[0m\u001b[1;33m\u001b[0m\u001b[0m\n\u001b[0;32m    253\u001b[0m         \u001b[1;31m# process deferred restorations for it and its dependencies.\u001b[0m\u001b[1;33m\u001b[0m\u001b[1;33m\u001b[0m\u001b[0m\n\u001b[1;32m--> 254\u001b[1;33m         \u001b[0mrestore_ops\u001b[0m \u001b[1;33m=\u001b[0m \u001b[0mtrackable\u001b[0m\u001b[1;33m.\u001b[0m\u001b[0m_restore_from_checkpoint_position\u001b[0m\u001b[1;33m(\u001b[0m\u001b[0mself\u001b[0m\u001b[1;33m)\u001b[0m  \u001b[1;31m# pylint: disable=protected-access\u001b[0m\u001b[1;33m\u001b[0m\u001b[1;33m\u001b[0m\u001b[0m\n\u001b[0m\u001b[0;32m    255\u001b[0m         \u001b[1;32mif\u001b[0m \u001b[0mrestore_ops\u001b[0m\u001b[1;33m:\u001b[0m\u001b[1;33m\u001b[0m\u001b[1;33m\u001b[0m\u001b[0m\n\u001b[0;32m    256\u001b[0m           \u001b[0mself\u001b[0m\u001b[1;33m.\u001b[0m\u001b[0m_checkpoint\u001b[0m\u001b[1;33m.\u001b[0m\u001b[0mnew_restore_ops\u001b[0m\u001b[1;33m(\u001b[0m\u001b[0mrestore_ops\u001b[0m\u001b[1;33m)\u001b[0m\u001b[1;33m\u001b[0m\u001b[1;33m\u001b[0m\u001b[0m\n",
      "\u001b[1;32mD:\\Anaconda\\envs\\su\\lib\\site-packages\\tensorflow\\python\\training\\tracking\\base.py\u001b[0m in \u001b[0;36m_restore_from_checkpoint_position\u001b[1;34m(self, checkpoint_position)\u001b[0m\n\u001b[0;32m    978\u001b[0m       \u001b[0mpython_saveables\u001b[0m\u001b[1;33m.\u001b[0m\u001b[0mextend\u001b[0m\u001b[1;33m(\u001b[0m\u001b[0mnew_python_saveables\u001b[0m\u001b[1;33m)\u001b[0m\u001b[1;33m\u001b[0m\u001b[1;33m\u001b[0m\u001b[0m\n\u001b[0;32m    979\u001b[0m     restore_ops.extend(\n\u001b[1;32m--> 980\u001b[1;33m         current_position.checkpoint.restore_saveables(\n\u001b[0m\u001b[0;32m    981\u001b[0m             tensor_saveables, python_saveables))\n\u001b[0;32m    982\u001b[0m     \u001b[1;32mreturn\u001b[0m \u001b[0mrestore_ops\u001b[0m\u001b[1;33m\u001b[0m\u001b[1;33m\u001b[0m\u001b[0m\n",
      "\u001b[1;32mD:\\Anaconda\\envs\\su\\lib\\site-packages\\tensorflow\\python\\training\\tracking\\util.py\u001b[0m in \u001b[0;36mrestore_saveables\u001b[1;34m(self, tensor_saveables, python_saveables)\u001b[0m\n\u001b[0;32m    349\u001b[0m             (\"Saveable keys changed when validating. Got back %s, was \"\n\u001b[0;32m    350\u001b[0m              \"expecting %s\") % (tensor_saveables.keys(), validated_names))\n\u001b[1;32m--> 351\u001b[1;33m       new_restore_ops = functional_saver.MultiDeviceSaver(\n\u001b[0m\u001b[0;32m    352\u001b[0m           validated_saveables).restore(self.save_path_tensor, self.options)\n\u001b[0;32m    353\u001b[0m       \u001b[1;32mif\u001b[0m \u001b[1;32mnot\u001b[0m \u001b[0mcontext\u001b[0m\u001b[1;33m.\u001b[0m\u001b[0mexecuting_eagerly\u001b[0m\u001b[1;33m(\u001b[0m\u001b[1;33m)\u001b[0m\u001b[1;33m:\u001b[0m\u001b[1;33m\u001b[0m\u001b[1;33m\u001b[0m\u001b[0m\n",
      "\u001b[1;32mD:\\Anaconda\\envs\\su\\lib\\site-packages\\tensorflow\\python\\training\\saving\\functional_saver.py\u001b[0m in \u001b[0;36mrestore\u001b[1;34m(self, file_prefix, options)\u001b[0m\n\u001b[0;32m    337\u001b[0m       \u001b[0mrestore_ops\u001b[0m \u001b[1;33m=\u001b[0m \u001b[0mtf_function_restore\u001b[0m\u001b[1;33m(\u001b[0m\u001b[1;33m)\u001b[0m\u001b[1;33m\u001b[0m\u001b[1;33m\u001b[0m\u001b[0m\n\u001b[0;32m    338\u001b[0m     \u001b[1;32melse\u001b[0m\u001b[1;33m:\u001b[0m\u001b[1;33m\u001b[0m\u001b[1;33m\u001b[0m\u001b[0m\n\u001b[1;32m--> 339\u001b[1;33m       \u001b[0mrestore_ops\u001b[0m \u001b[1;33m=\u001b[0m \u001b[0mrestore_fn\u001b[0m\u001b[1;33m(\u001b[0m\u001b[1;33m)\u001b[0m\u001b[1;33m\u001b[0m\u001b[1;33m\u001b[0m\u001b[0m\n\u001b[0m\u001b[0;32m    340\u001b[0m \u001b[1;33m\u001b[0m\u001b[0m\n\u001b[0;32m    341\u001b[0m     \u001b[1;32mfor\u001b[0m \u001b[0mcallback\u001b[0m \u001b[1;32min\u001b[0m \u001b[0mself\u001b[0m\u001b[1;33m.\u001b[0m\u001b[0m_after_restore_callbacks\u001b[0m\u001b[1;33m:\u001b[0m\u001b[1;33m\u001b[0m\u001b[1;33m\u001b[0m\u001b[0m\n",
      "\u001b[1;32mD:\\Anaconda\\envs\\su\\lib\\site-packages\\tensorflow\\python\\training\\saving\\functional_saver.py\u001b[0m in \u001b[0;36mrestore_fn\u001b[1;34m()\u001b[0m\n\u001b[0;32m    321\u001b[0m       \u001b[1;32mfor\u001b[0m \u001b[0mdevice\u001b[0m\u001b[1;33m,\u001b[0m \u001b[0msaver\u001b[0m \u001b[1;32min\u001b[0m \u001b[0msorted\u001b[0m\u001b[1;33m(\u001b[0m\u001b[0mself\u001b[0m\u001b[1;33m.\u001b[0m\u001b[0m_single_device_savers\u001b[0m\u001b[1;33m.\u001b[0m\u001b[0mitems\u001b[0m\u001b[1;33m(\u001b[0m\u001b[1;33m)\u001b[0m\u001b[1;33m)\u001b[0m\u001b[1;33m:\u001b[0m\u001b[1;33m\u001b[0m\u001b[1;33m\u001b[0m\u001b[0m\n\u001b[0;32m    322\u001b[0m         \u001b[1;32mwith\u001b[0m \u001b[0mops\u001b[0m\u001b[1;33m.\u001b[0m\u001b[0mdevice\u001b[0m\u001b[1;33m(\u001b[0m\u001b[0mdevice\u001b[0m\u001b[1;33m)\u001b[0m\u001b[1;33m:\u001b[0m\u001b[1;33m\u001b[0m\u001b[1;33m\u001b[0m\u001b[0m\n\u001b[1;32m--> 323\u001b[1;33m           \u001b[0mrestore_ops\u001b[0m\u001b[1;33m.\u001b[0m\u001b[0mupdate\u001b[0m\u001b[1;33m(\u001b[0m\u001b[0msaver\u001b[0m\u001b[1;33m.\u001b[0m\u001b[0mrestore\u001b[0m\u001b[1;33m(\u001b[0m\u001b[0mfile_prefix\u001b[0m\u001b[1;33m,\u001b[0m \u001b[0moptions\u001b[0m\u001b[1;33m)\u001b[0m\u001b[1;33m)\u001b[0m\u001b[1;33m\u001b[0m\u001b[1;33m\u001b[0m\u001b[0m\n\u001b[0m\u001b[0;32m    324\u001b[0m \u001b[1;33m\u001b[0m\u001b[0m\n\u001b[0;32m    325\u001b[0m       \u001b[1;32mreturn\u001b[0m \u001b[0mrestore_ops\u001b[0m\u001b[1;33m\u001b[0m\u001b[1;33m\u001b[0m\u001b[0m\n",
      "\u001b[1;32mD:\\Anaconda\\envs\\su\\lib\\site-packages\\tensorflow\\python\\training\\saving\\functional_saver.py\u001b[0m in \u001b[0;36mrestore\u001b[1;34m(self, file_prefix, options)\u001b[0m\n\u001b[0;32m    113\u001b[0m     for saveable, restored_tensors in zip(self._saveable_objects,\n\u001b[0;32m    114\u001b[0m                                           structured_restored_tensors):\n\u001b[1;32m--> 115\u001b[1;33m       restore_ops[saveable.name] = saveable.restore(\n\u001b[0m\u001b[0;32m    116\u001b[0m           restored_tensors, restored_shapes=None)\n\u001b[0;32m    117\u001b[0m     \u001b[1;32mreturn\u001b[0m \u001b[0mrestore_ops\u001b[0m\u001b[1;33m\u001b[0m\u001b[1;33m\u001b[0m\u001b[0m\n",
      "\u001b[1;32mD:\\Anaconda\\envs\\su\\lib\\site-packages\\tensorflow\\python\\training\\saving\\saveable_object_util.py\u001b[0m in \u001b[0;36mrestore\u001b[1;34m(self, restored_tensors, restored_shapes)\u001b[0m\n\u001b[0;32m    129\u001b[0m     \u001b[1;32mwith\u001b[0m \u001b[0mops\u001b[0m\u001b[1;33m.\u001b[0m\u001b[0mdevice\u001b[0m\u001b[1;33m(\u001b[0m\u001b[0mself\u001b[0m\u001b[1;33m.\u001b[0m\u001b[0m_var_device\u001b[0m\u001b[1;33m)\u001b[0m\u001b[1;33m:\u001b[0m\u001b[1;33m\u001b[0m\u001b[1;33m\u001b[0m\u001b[0m\n\u001b[0;32m    130\u001b[0m       \u001b[0mrestored_tensor\u001b[0m \u001b[1;33m=\u001b[0m \u001b[0marray_ops\u001b[0m\u001b[1;33m.\u001b[0m\u001b[0midentity\u001b[0m\u001b[1;33m(\u001b[0m\u001b[0mrestored_tensor\u001b[0m\u001b[1;33m)\u001b[0m\u001b[1;33m\u001b[0m\u001b[1;33m\u001b[0m\u001b[0m\n\u001b[1;32m--> 131\u001b[1;33m       return resource_variable_ops.shape_safe_assign_variable_handle(\n\u001b[0m\u001b[0;32m    132\u001b[0m           self.handle_op, self._var_shape, restored_tensor)\n\u001b[0;32m    133\u001b[0m \u001b[1;33m\u001b[0m\u001b[0m\n",
      "\u001b[1;32mD:\\Anaconda\\envs\\su\\lib\\site-packages\\tensorflow\\python\\ops\\resource_variable_ops.py\u001b[0m in \u001b[0;36mshape_safe_assign_variable_handle\u001b[1;34m(handle, shape, value, name)\u001b[0m\n\u001b[0;32m    307\u001b[0m   \u001b[1;32mwith\u001b[0m \u001b[0m_handle_graph\u001b[0m\u001b[1;33m(\u001b[0m\u001b[0mhandle\u001b[0m\u001b[1;33m)\u001b[0m\u001b[1;33m:\u001b[0m\u001b[1;33m\u001b[0m\u001b[1;33m\u001b[0m\u001b[0m\n\u001b[0;32m    308\u001b[0m     \u001b[0mvalue_tensor\u001b[0m \u001b[1;33m=\u001b[0m \u001b[0mops\u001b[0m\u001b[1;33m.\u001b[0m\u001b[0mconvert_to_tensor\u001b[0m\u001b[1;33m(\u001b[0m\u001b[0mvalue\u001b[0m\u001b[1;33m)\u001b[0m\u001b[1;33m\u001b[0m\u001b[1;33m\u001b[0m\u001b[0m\n\u001b[1;32m--> 309\u001b[1;33m   \u001b[0mshape\u001b[0m\u001b[1;33m.\u001b[0m\u001b[0massert_is_compatible_with\u001b[0m\u001b[1;33m(\u001b[0m\u001b[0mvalue_tensor\u001b[0m\u001b[1;33m.\u001b[0m\u001b[0mshape\u001b[0m\u001b[1;33m)\u001b[0m\u001b[1;33m\u001b[0m\u001b[1;33m\u001b[0m\u001b[0m\n\u001b[0m\u001b[0;32m    310\u001b[0m   return gen_resource_variable_ops.assign_variable_op(\n\u001b[0;32m    311\u001b[0m       handle, value_tensor, name=name)\n",
      "\u001b[1;32mD:\\Anaconda\\envs\\su\\lib\\site-packages\\tensorflow\\python\\framework\\tensor_shape.py\u001b[0m in \u001b[0;36massert_is_compatible_with\u001b[1;34m(self, other)\u001b[0m\n\u001b[0;32m   1159\u001b[0m     \"\"\"\n\u001b[0;32m   1160\u001b[0m     \u001b[1;32mif\u001b[0m \u001b[1;32mnot\u001b[0m \u001b[0mself\u001b[0m\u001b[1;33m.\u001b[0m\u001b[0mis_compatible_with\u001b[0m\u001b[1;33m(\u001b[0m\u001b[0mother\u001b[0m\u001b[1;33m)\u001b[0m\u001b[1;33m:\u001b[0m\u001b[1;33m\u001b[0m\u001b[1;33m\u001b[0m\u001b[0m\n\u001b[1;32m-> 1161\u001b[1;33m       \u001b[1;32mraise\u001b[0m \u001b[0mValueError\u001b[0m\u001b[1;33m(\u001b[0m\u001b[1;34m\"Shapes %s and %s are incompatible\"\u001b[0m \u001b[1;33m%\u001b[0m \u001b[1;33m(\u001b[0m\u001b[0mself\u001b[0m\u001b[1;33m,\u001b[0m \u001b[0mother\u001b[0m\u001b[1;33m)\u001b[0m\u001b[1;33m)\u001b[0m\u001b[1;33m\u001b[0m\u001b[1;33m\u001b[0m\u001b[0m\n\u001b[0m\u001b[0;32m   1162\u001b[0m \u001b[1;33m\u001b[0m\u001b[0m\n\u001b[0;32m   1163\u001b[0m   \u001b[1;32mdef\u001b[0m \u001b[0mmost_specific_compatible_shape\u001b[0m\u001b[1;33m(\u001b[0m\u001b[0mself\u001b[0m\u001b[1;33m,\u001b[0m \u001b[0mother\u001b[0m\u001b[1;33m)\u001b[0m\u001b[1;33m:\u001b[0m\u001b[1;33m\u001b[0m\u001b[1;33m\u001b[0m\u001b[0m\n",
      "\u001b[1;31mValueError\u001b[0m: Shapes (896, 400) and (704, 400) are incompatible"
     ]
    }
   ],
   "source": [
    "from cnn_lstm import cnn_lstm_build\n",
    "from sklearn.preprocessing import MinMaxScaler, StandardScaler\n",
    "import visualization.view_time_series as vts\n",
    "import numpy as np\n",
    "\n",
    "WINDOW_SIZE = 18\n",
    "\n",
    "stk_train = vts.stock_get(\"AAPL_residuals\", \"2014-06-01\", \"2019-06-01\")\n",
    "stk_test = vts.stock_get(\"AAPL_residuals\", \"2019-06-01\", \"2020-06-01\")\n",
    "\n",
    "AAPL = stk_train\n",
    "AAPL_test = stk_test\n",
    "print(AAPL_test.info())\n",
    "\n",
    "apple_train = AAPL.iloc[:,1:7].values\n",
    "num_instances, num_features = AAPL.shape\n",
    "apple_test = AAPL_test.iloc[:, 1:7].values\n",
    "\n",
    "scaler = StandardScaler()\n",
    "\n",
    "apple_train_scaled = scaler.fit_transform(apple_train)\n",
    "apple_test_scaled = scaler.transform(apple_test)\n",
    "\n",
    "feature_set = []\n",
    "labels = []\n",
    "test_feature_set = []\n",
    "test_labels = []\n",
    "\n",
    "for i in range(WINDOW_SIZE, apple_train_scaled.shape[0]):\n",
    "    feature_set.append(apple_train_scaled[i-WINDOW_SIZE:i, :])\n",
    "    labels.append(apple_train_scaled[i,0])\n",
    "for i in range(WINDOW_SIZE, apple_test_scaled.shape[0]):\n",
    "    test_feature_set.append(apple_test_scaled[i-WINDOW_SIZE:i, :])\n",
    "    test_labels.append(apple_test_scaled[i,0])\n",
    "\n",
    "feature_set, labels = np.array(feature_set), np.array(labels)\n",
    "feature_set = np.reshape(feature_set, (feature_set.shape[0], feature_set.shape[1], feature_set.shape[2]))\n",
    "\n",
    "test_feature_set, test_labels = np.array(test_feature_set), np.array(test_labels)\n",
    "test_feature_set = np.reshape(test_feature_set, (test_feature_set.shape[0], \\\n",
    "                                                        test_feature_set.shape[1], feature_set.shape[2]))\n",
    "print(feature_set.shape)\n",
    "print(test_feature_set.shape)\n",
    "\n",
    "n_steps, n_length = 1, WINDOW_SIZE\n",
    "n_features = feature_set.shape[2]\n",
    "X_train = feature_set.reshape((feature_set.shape[0], n_steps, n_length, n_features))\n",
    "X_test = test_feature_set.reshape((test_feature_set.shape[0], n_steps, n_length, n_features))\n",
    "print(X_train.shape)\n",
    "print(X_test.shape)\n",
    "\n",
    "model = cnn_lstm_build(n_length,n_features)\n",
    "\n",
    "model.load_weights('checkpoint/cnn_lstm_rez_AAPL_checkpoint/')"
   ]
  },
  {
   "cell_type": "code",
   "execution_count": 83,
   "id": "4a802887",
   "metadata": {},
   "outputs": [
    {
     "name": "stdout",
     "output_type": "stream",
     "text": [
      "WARNING:tensorflow:Unresolved object in checkpoint: (root).optimizer.iter\n",
      "WARNING:tensorflow:Unresolved object in checkpoint: (root).optimizer.beta_1\n",
      "WARNING:tensorflow:Unresolved object in checkpoint: (root).optimizer.beta_2\n",
      "WARNING:tensorflow:Unresolved object in checkpoint: (root).optimizer.decay\n",
      "WARNING:tensorflow:Unresolved object in checkpoint: (root).optimizer.learning_rate\n",
      "WARNING:tensorflow:A checkpoint was restored (e.g. tf.train.Checkpoint.restore or tf.keras.Model.load_weights) but not all checkpointed values were used. See above for specific issues. Use expect_partial() on the load status object, e.g. tf.train.Checkpoint.restore(...).expect_partial(), to silence these warnings, or use assert_consumed() to make the check explicit. See https://www.tensorflow.org/guide/checkpoint#loading_mechanics for details.\n"
     ]
    }
   ],
   "source": [
    "from xplique.plots import plot_feature_impact, plot_mean_feature_impact, summary_plot_tabular\n",
    "# get the different explanations\n",
    "\n",
    "methods_params = [\n",
    "    (\"LIME\", Lime, {})\n",
    "]\n",
    "\n",
    "explanations = []\n",
    "\n",
    "def predict(qc):\n",
    "    global model\n",
    "    return model.predict(qc.reshape((qc.shape[0], 1, 18, 6)))\n",
    "for name, Cls, params in methods_params:\n",
    "    \n",
    "    explainer   = Cls(predict, **params)\n",
    "    explanation = explainer(qc_reshape, test_labels)\n",
    "\n",
    "    explanations.append((name, explanation))"
   ]
  },
  {
   "cell_type": "code",
   "execution_count": 84,
   "id": "f09f6136",
   "metadata": {},
   "outputs": [
    {
     "name": "stdout",
     "output_type": "stream",
     "text": [
      "[-0.00411859  0.00399285  0.00536796  0.00098618 -0.00163669  0.00139472]\n",
      "[ 0.01185179 -0.0063139  -0.00030987  0.01499315  0.00462948 -0.00497054\n",
      "  0.02259767 -0.01273017  0.0011994   0.00051397  0.01111243 -0.00608041\n",
      "  0.00046431 -0.01200184  0.00585293 -0.00786426  0.02117599 -0.02616087]\n"
     ]
    }
   ],
   "source": [
    "lime_cnn_lstm = np.array(explanations[0][1]).reshape(X_test.shape)\n",
    "cnn_lstm_features = lime_cnn_lstm.mean(axis=(0,1,2))\n",
    "print(cnn_lstm_features)\n",
    "cnn_lstm_lags = lime_cnn_lstm.mean(axis=(0,1,3))\n",
    "print(cnn_lstm_lags)"
   ]
  },
  {
   "cell_type": "markdown",
   "id": "ecb37065",
   "metadata": {},
   "source": [
    "### Comparison"
   ]
  },
  {
   "cell_type": "code",
   "execution_count": 85,
   "id": "0ddc2a49",
   "metadata": {},
   "outputs": [
    {
     "name": "stdout",
     "output_type": "stream",
     "text": [
      "               LSTM       CNN  CNN-LSTM\n",
      "Open       2.696280  3.241257 -1.175837\n",
      "High       2.705980  3.488456  1.139937\n",
      "Low        2.705980  3.157455  1.532523\n",
      "Close      2.681062  2.956338  0.281550\n",
      "Adj Close  1.731898  3.441866 -0.467266\n",
      "Volume     0.244874  0.854152  0.398184\n"
     ]
    }
   ],
   "source": [
    "res_feat = pd.DataFrame(columns=[\"Open\", \"High\", \"Low\", \"Close\", \"Adj Close\", \"Volume\"])\n",
    "for el in [lstm_features, cnn_features, cnn_lstm_features]:\n",
    "    res_feat = res_feat.append({key: el[i] for key, i in zip(res_feat, range(len(res_feat.columns)))}, ignore_index=True)\n",
    "res_feat = res_feat.T\n",
    "res_feat.rename(columns={0: \"LSTM\", 1: \"CNN\", 2: \"CNN-LSTM\"}, inplace=True)\n",
    "for col in [\"LSTM\", \"CNN\", \"CNN-LSTM\"]:\n",
    "    res_feat[col] = res_feat[col] #/ res_feat[col].std()\n",
    "print(res_feat)\n",
    "res_feat = res_feat.reset_index()\n",
    "res_feat = res_feat.melt(id_vars=\"index\")"
   ]
  },
  {
   "cell_type": "code",
   "execution_count": 86,
   "id": "7a9a8409",
   "metadata": {},
   "outputs": [
    {
     "name": "stderr",
     "output_type": "stream",
     "text": [
      "Saving 6.4 x 4.8 in image.\n",
      "Filename: fig5.png\n"
     ]
    },
    {
     "data": {
      "image/png": "[encoded data removed]",
      "text/plain": [
       "<Figure size 640x480 with 1 Axes>"
      ]
     },
     "metadata": {},
     "output_type": "display_data"
    },
    {
     "data": {
      "text/plain": [
       "<ggplot: (152845971761)>"
      ]
     },
     "execution_count": 86,
     "metadata": {},
     "output_type": "execute_result"
    }
   ],
   "source": [
    "grpcol = [\"red\", \"green\", \"blue\"]\n",
    "g = (\n",
    "    ggplot(res_feat, aes(x=\"index\", y=\"value\", fill=\"variable\")) +\n",
    "    geom_bar(stat=\"identity\", position=position_dodge())\n",
    "    + scale_fill_manual(values=grpcol)\n",
    "    + labs(x=\"Feature\", y=\"LIME\")\n",
    ")\n",
    "ggsave(plot=g, filename='fig5.png', dpi=80)\n",
    "g"
   ]
  },
  {
   "cell_type": "code",
   "execution_count": 87,
   "id": "c53aabf2",
   "metadata": {},
   "outputs": [
    {
     "name": "stdout",
     "output_type": "stream",
     "text": [
      "         LSTM        CNN  CNN-LSTM\n",
      "0   71.682266  18.278772 -0.026161\n",
      "1   60.644474  21.987574  0.021176\n",
      "2   51.089436  14.766368 -0.007864\n",
      "3   42.009384  14.624146  0.005853\n",
      "4   34.732506   8.232275 -0.012002\n",
      "5   30.721678   7.292490  0.000464\n",
      "6   26.116079   4.185436 -0.006080\n",
      "7   21.548031   4.079450  0.011112\n",
      "8   17.731953   3.960779  0.000514\n",
      "9   13.972764   3.419928  0.001199\n",
      "10  12.423946   2.902081 -0.012730\n",
      "11  11.015555   2.530704  0.022598\n",
      "12   9.832005   1.972676 -0.004971\n",
      "13   9.812544   1.982021  0.004629\n",
      "14   9.724291   2.221778  0.014993\n"
     ]
    }
   ],
   "source": [
    "res_lags = pd.DataFrame(columns=[i for i in range(15)])\n",
    "for el in [lstm_lags[:18][::-1], cnn_lags[:18][::-1], cnn_lstm_lags[:18][::-1]]:\n",
    "    res_lags = res_lags.append({i: el[i] for key, i in zip(res_lags, range(len(res_lags.columns)))}, ignore_index=True)\n",
    "res_lags = res_lags.T\n",
    "res_lags.rename(columns={0: \"LSTM\", 1: \"CNN\", 2: \"CNN-LSTM\"}, inplace=True)\n",
    "for col in [\"LSTM\", \"CNN\", \"CNN-LSTM\"]:\n",
    "    res_lags[col] = res_lags[col] #/ res_lags[col].std()\n",
    "print(res_lags)\n",
    "res_lags = res_lags.reset_index()\n",
    "res_lags = res_lags.melt(id_vars=\"index\")"
   ]
  },
  {
   "cell_type": "code",
   "execution_count": 88,
   "id": "8cc1510a",
   "metadata": {},
   "outputs": [
    {
     "name": "stderr",
     "output_type": "stream",
     "text": [
      "Saving 6.4 x 4.8 in image.\n",
      "Filename: fig6.png\n",
      "Confidence intervals are not yet implementedfor lowess smoothings.\n",
      "Confidence intervals are not yet implementedfor lowess smoothings.\n"
     ]
    },
    {
     "data": {
      "image/png": "[encoded data removed]",
      "text/plain": [
       "<Figure size 640x480 with 1 Axes>"
      ]
     },
     "metadata": {},
     "output_type": "display_data"
    },
    {
     "data": {
      "text/plain": [
       "<ggplot: (152834841688)>"
      ]
     },
     "execution_count": 88,
     "metadata": {},
     "output_type": "execute_result"
    }
   ],
   "source": [
    "g = (\n",
    "    ggplot(res_lags, aes(x=\"index\", y=\"value\", color=\"variable\"))\n",
    "    + geom_smooth()\n",
    "    + scale_color_manual(values=grpcol)\n",
    "    + labs(x=\"Lag\", y=\"LIME\")\n",
    ")\n",
    "ggsave(plot=g, filename='fig6.png', dpi=80)\n",
    "g"
   ]
  },
  {
   "cell_type": "code",
   "execution_count": null,
   "id": "cd2b1b37",
   "metadata": {},
   "outputs": [],
   "source": []
  }
 ],
 "metadata": {
  "kernelspec": {
   "display_name": "Python 3 (ipykernel)",
   "language": "python",
   "name": "python3"
  },
  "language_info": {
   "codemirror_mode": {
    "name": "ipython",
    "version": 3
   },
   "file_extension": ".py",
   "mimetype": "text/x-python",
   "name": "python",
   "nbconvert_exporter": "python",
   "pygments_lexer": "ipython3",
   "version": "3.9.7"
  }
 },
 "nbformat": 4,
 "nbformat_minor": 5
}
